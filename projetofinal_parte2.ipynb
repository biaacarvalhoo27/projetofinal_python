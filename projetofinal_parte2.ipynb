{
 "cells": [
  {
   "cell_type": "code",
   "execution_count": 1,
   "metadata": {},
   "outputs": [],
   "source": [
    "import sqlite3\n",
    "import pandas as pd\n",
    "paises_regiao = pd.read_csv('paises_regiao.csv')\n",
    "paises_moeda = pd.read_csv('paises_moeda.csv')\n",
    "paises_area = pd.read_csv('paises_area.csv')"
   ]
  },
  {
   "cell_type": "code",
   "execution_count": null,
   "metadata": {},
   "outputs": [],
   "source": [
    "#Primeira coisa que vamos fazer é renomear as linhas e colunas em cada csv, depois iremos salvar\n",
    "paises_regiao.rename(columns={'name': 'Nome', 'ccn3': 'Código', 'capital': 'Capital', 'region': 'Região'}, inplace=True)\n",
    "\n",
    "paises_moeda.rename(columns={'ccn3': 'Código', 'currencies': 'Moeda'}, inplace=True)\n",
    "\n",
    "paises_area.rename(columns={'ccn3': 'Código', 'latlng': 'Coordenadas', 'area': 'Área', 'population': 'População'}, inplace=True)\n",
    "\n",
    "paises_regiao.to_csv('paises_regiao_tratado.csv', index=False)\n",
    "paises_moeda.to_csv('paises_moeda_tratado.csv', index=False)\n",
    "paises_area.to_csv('paises_area_tratado.csv', index=False)"
   ]
  },
  {
   "cell_type": "code",
   "execution_count": 2,
   "metadata": {},
   "outputs": [
    {
     "name": "stdout",
     "output_type": "stream",
     "text": [
      "Tipos de variáveis em paises_regiao:\n",
      "<class 'pandas.core.frame.DataFrame'>\n",
      "RangeIndex: 250 entries, 0 to 249\n",
      "Data columns (total 4 columns):\n",
      " #   Column   Non-Null Count  Dtype  \n",
      "---  ------   --------------  -----  \n",
      " 0   name     250 non-null    object \n",
      " 1   ccn3     249 non-null    float64\n",
      " 2   capital  250 non-null    object \n",
      " 3   region   250 non-null    object \n",
      "dtypes: float64(1), object(3)\n",
      "memory usage: 7.9+ KB\n",
      "None\n",
      "\n",
      "Tipos de variáveis em paises_moeda:\n",
      "<class 'pandas.core.frame.DataFrame'>\n",
      "RangeIndex: 250 entries, 0 to 249\n",
      "Data columns (total 2 columns):\n",
      " #   Column      Non-Null Count  Dtype  \n",
      "---  ------      --------------  -----  \n",
      " 0   ccn3        249 non-null    float64\n",
      " 1   currencies  250 non-null    object \n",
      "dtypes: float64(1), object(1)\n",
      "memory usage: 4.0+ KB\n",
      "None\n",
      "\n",
      "Tipos de variáveis em paises_area:\n",
      "<class 'pandas.core.frame.DataFrame'>\n",
      "RangeIndex: 250 entries, 0 to 249\n",
      "Data columns (total 4 columns):\n",
      " #   Column      Non-Null Count  Dtype  \n",
      "---  ------      --------------  -----  \n",
      " 0   ccn3        249 non-null    float64\n",
      " 1   latlng      250 non-null    object \n",
      " 2   area        250 non-null    float64\n",
      " 3   population  250 non-null    int64  \n",
      "dtypes: float64(2), int64(1), object(1)\n",
      "memory usage: 7.9+ KB\n",
      "None\n"
     ]
    }
   ],
   "source": [
    "#Próximo passo é analisar os tipos de variáveis em cada dataframe\n",
    "print(\"Tipos de variáveis em paises_regiao:\")\n",
    "print(paises_regiao.info())\n",
    "\n",
    "print(\"\\nTipos de variáveis em paises_moeda:\")\n",
    "print(paises_moeda.info())\n",
    "\n",
    "print(\"\\nTipos de variáveis em paises_area:\")\n",
    "print(paises_area.info())"
   ]
  },
  {
   "cell_type": "code",
   "execution_count": 3,
   "metadata": {},
   "outputs": [
    {
     "name": "stdout",
     "output_type": "stream",
     "text": [
      "Valores ausentes em paises_regiao:\n",
      "name       0\n",
      "ccn3       1\n",
      "capital    0\n",
      "region     0\n",
      "dtype: int64\n",
      "\n",
      "Valores ausentes em paises_moeda:\n",
      "ccn3          1\n",
      "currencies    0\n",
      "dtype: int64\n",
      "\n",
      "Valores ausentes em paises_area:\n",
      "ccn3          1\n",
      "latlng        0\n",
      "area          0\n",
      "population    0\n",
      "dtype: int64\n"
     ]
    }
   ],
   "source": [
    "#Agora vamos analisar os valores ausentes\n",
    "print(\"Valores ausentes em paises_regiao:\")\n",
    "print(paises_regiao.isna().sum())\n",
    "\n",
    "print(\"\\nValores ausentes em paises_moeda:\")\n",
    "print(paises_moeda.isna().sum())\n",
    "\n",
    "print(\"\\nValores ausentes em paises_area:\")\n",
    "print(paises_area.isna().sum())"
   ]
  },
  {
   "cell_type": "code",
   "execution_count": 9,
   "metadata": {},
   "outputs": [],
   "source": [
    "\n",
    "paises_regiao = pd.read_csv('paises_regiao_tratado.csv')\n",
    "paises_moeda = pd.read_csv('paises_moeda_tratado.csv')\n",
    "paises_area = pd.read_csv('paises_area_tratado.csv')\n",
    "\n",
    "#Criando o arquivo do banco de dados\n",
    "conn = sqlite3.connect('paises.db')\n",
    "\n",
    "cursor = conn.cursor()"
   ]
  },
  {
   "cell_type": "code",
   "execution_count": 10,
   "metadata": {},
   "outputs": [],
   "source": [
    "# Criando uma tabela para armazenar os países com informações \n",
    "cursor.execute('''\n",
    "    CREATE TABLE paises (\n",
    "        id INTEGER PRIMARY KEY,\n",
    "        nome TEXT,\n",
    "        codigo INTEGER,\n",
    "        capital TEXT,\n",
    "        regiao TEXT\n",
    "    )\n",
    "''')\n",
    "\n",
    "for index, row in paises_regiao.iterrows():\n",
    "    cursor.execute('''\n",
    "        INSERT INTO paises (nome, codigo, capital, regiao) VALUES (?, ?, ?, ?)\n",
    "    ''', (row['Nome'], row['Código'], row['Capital'], row['Região']))\n",
    "\n",
    "conn.commit()\n",
    "cursor.close()\n",
    "conn.close()"
   ]
  },
  {
   "cell_type": "code",
   "execution_count": null,
   "metadata": {},
   "outputs": [],
   "source": []
  }
 ],
 "metadata": {
  "kernelspec": {
   "display_name": "base",
   "language": "python",
   "name": "python3"
  },
  "language_info": {
   "codemirror_mode": {
    "name": "ipython",
    "version": 3
   },
   "file_extension": ".py",
   "mimetype": "text/x-python",
   "name": "python",
   "nbconvert_exporter": "python",
   "pygments_lexer": "ipython3",
   "version": "3.9.6"
  }
 },
 "nbformat": 4,
 "nbformat_minor": 2
}
