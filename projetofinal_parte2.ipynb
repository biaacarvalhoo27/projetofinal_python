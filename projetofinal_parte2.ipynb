{
 "cells": [
  {
   "cell_type": "code",
   "execution_count": 2,
   "metadata": {},
   "outputs": [],
   "source": [
    "#Próximo passo é analisar os tipos de variáveis em cada dataframe\n",
    "print(\"Tipos de variáveis em paises_regiao:\")\n",
    "print(paises_regiao.info())\n",
    "\n",
    "print(\"\\nTipos de variáveis em paises_moeda:\")\n",
    "print(paises_moeda.info())\n",
    "\n",
    "print(\"\\nTipos de variáveis em paises_area:\")\n",
    "print(paises_area.info())"
   ]
  },
  {
   "cell_type": "code",
   "execution_count": 3,
   "metadata": {},
   "outputs": [],
   "source": [
    "#Agora vamos analisar os valores ausentes\n",
    "print(\"Valores ausentes em paises_regiao:\")\n",
    "print(paises_regiao.isna().sum())\n",
    "\n",
    "print(\"\\nValores ausentes em paises_moeda:\")\n",
    "print(paises_moeda.isna().sum())\n",
    "\n",
    "print(\"\\nValores ausentes em paises_area:\")\n",
    "print(paises_area.isna().sum())"
   ]
  },
  {
   "cell_type": "code",
   "execution_count": 4,
   "metadata": {},
   "outputs": [],
   "source": [
    "import sqlite3\n",
    "import pandas as pd\n",
    "paises_regiao = pd.read_csv('paises_regiao_tratado.csv')\n",
    "paises_moeda = pd.read_csv('paises_moeda_tratado.csv')\n",
    "paises_area = pd.read_csv('paises_area_tratado.csv')\n",
    "\n",
    "#Criando o arquivo do banco de dados\n",
    "conn = sqlite3.connect('paises.db')\n",
    "\n",
    "cursor = conn.cursor()"
   ]
  },
  {
   "cell_type": "code",
   "execution_count": 5,
   "metadata": {},
   "outputs": [],
   "source": [
    "# Criando uma tabela para armazenar os países com informações \n",
    "cursor.execute('''\n",
    "    CREATE TABLE paises (\n",
    "        id INTEGER PRIMARY KEY,\n",
    "        nome TEXT,\n",
    "        codigo INTEGER,\n",
    "        capital TEXT,\n",
    "        regiao TEXT\n",
    "    )\n",
    "''')\n",
    "\n",
    "for index, row in paises_regiao.iterrows():\n",
    "    cursor.execute('''\n",
    "        INSERT INTO paises (nome, codigo, capital, regiao) VALUES (?, ?, ?, ?)\n",
    "    ''', (row['Nome'], row['Código'], row['Capital'], row['Região']))\n",
    "\n",
    "conn.commit()\n",
    "cursor.close()\n",
    "conn.close()"
   ]
  }
 ],
 "metadata": {
  "kernelspec": {
   "display_name": "base",
   "language": "python",
   "name": "python3"
  },
  "language_info": {
   "codemirror_mode": {
    "name": "ipython",
    "version": 3
   },
   "file_extension": ".py",
   "mimetype": "text/x-python",
   "name": "python",
   "nbconvert_exporter": "python",
   "pygments_lexer": "ipython3",
   "version": "3.8.16"
  }
 },
 "nbformat": 4,
 "nbformat_minor": 2
}
