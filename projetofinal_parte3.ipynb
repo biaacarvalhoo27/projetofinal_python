{
 "cells": [
  {
   "cell_type": "markdown",
   "metadata": {},
   "source": [
    "Importa Libs"
   ]
  },
  {
   "cell_type": "code",
   "execution_count": 86,
   "metadata": {},
   "outputs": [],
   "source": [
    "import sqlite3\n",
    "import pandas as pd\n",
    "from ast import literal_eval"
   ]
  },
  {
   "cell_type": "markdown",
   "metadata": {},
   "source": [
    "Ler arquivos CSV"
   ]
  },
  {
   "cell_type": "code",
   "execution_count": 89,
   "metadata": {},
   "outputs": [],
   "source": [
    "\n",
    "paises_regiao = pd.read_csv('paises_regiao.csv')\n",
    "paises_moeda = pd.read_csv('paises_moeda.csv')\n",
    "paises_area = pd.read_csv('paises_area.csv')"
   ]
  },
  {
   "cell_type": "markdown",
   "metadata": {},
   "source": [
    "Tratamento de bases"
   ]
  },
  {
   "cell_type": "code",
   "execution_count": 100,
   "metadata": {},
   "outputs": [
    {
     "name": "stdout",
     "output_type": "stream",
     "text": [
      "       Cod           Nome Pais           Capital    Região\n",
      "0    498.0             Moldova          Chișinău    Europe\n",
      "1    840.0       United States  Washington, D.C.  Americas\n",
      "2    175.0             Mayotte         Mamoudzou    Africa\n",
      "3    520.0               Nauru             Yaren   Oceania\n",
      "4    508.0          Mozambique            Maputo    Africa\n",
      "..     ...                 ...               ...       ...\n",
      "245  204.0               Benin        Porto-Novo    Africa\n",
      "246  392.0               Japan             Tokyo      Asia\n",
      "247  214.0  Dominican Republic     Santo Domingo  Americas\n",
      "248  634.0               Qatar              Doha      Asia\n",
      "249  266.0               Gabon        Libreville    Africa\n",
      "\n",
      "[249 rows x 4 columns]\n"
     ]
    },
    {
     "name": "stderr",
     "output_type": "stream",
     "text": [
      "C:\\Users\\bianc\\AppData\\Local\\Temp\\ipykernel_11184\\3838139320.py:19: SettingWithCopyWarning: \n",
      "A value is trying to be set on a copy of a slice from a DataFrame.\n",
      "Try using .loc[row_indexer,col_indexer] = value instead\n",
      "\n",
      "See the caveats in the documentation: https://pandas.pydata.org/pandas-docs/stable/user_guide/indexing.html#returning-a-view-versus-a-copy\n",
      "  paises_regiao_sem_nulos['Cod'], paises_regiao_sem_nulos['Nome Pais'], paises_regiao_sem_nulos['Capital'], paises_regiao_sem_nulos['Região'] = zip(*paises_regiao_sem_nulos.apply(extrair_info_pais, axis=1))\n",
      "C:\\Users\\bianc\\AppData\\Local\\Temp\\ipykernel_11184\\3838139320.py:19: SettingWithCopyWarning: \n",
      "A value is trying to be set on a copy of a slice from a DataFrame.\n",
      "Try using .loc[row_indexer,col_indexer] = value instead\n",
      "\n",
      "See the caveats in the documentation: https://pandas.pydata.org/pandas-docs/stable/user_guide/indexing.html#returning-a-view-versus-a-copy\n",
      "  paises_regiao_sem_nulos['Cod'], paises_regiao_sem_nulos['Nome Pais'], paises_regiao_sem_nulos['Capital'], paises_regiao_sem_nulos['Região'] = zip(*paises_regiao_sem_nulos.apply(extrair_info_pais, axis=1))\n",
      "C:\\Users\\bianc\\AppData\\Local\\Temp\\ipykernel_11184\\3838139320.py:19: SettingWithCopyWarning: \n",
      "A value is trying to be set on a copy of a slice from a DataFrame.\n",
      "Try using .loc[row_indexer,col_indexer] = value instead\n",
      "\n",
      "See the caveats in the documentation: https://pandas.pydata.org/pandas-docs/stable/user_guide/indexing.html#returning-a-view-versus-a-copy\n",
      "  paises_regiao_sem_nulos['Cod'], paises_regiao_sem_nulos['Nome Pais'], paises_regiao_sem_nulos['Capital'], paises_regiao_sem_nulos['Região'] = zip(*paises_regiao_sem_nulos.apply(extrair_info_pais, axis=1))\n",
      "C:\\Users\\bianc\\AppData\\Local\\Temp\\ipykernel_11184\\3838139320.py:19: SettingWithCopyWarning: \n",
      "A value is trying to be set on a copy of a slice from a DataFrame.\n",
      "Try using .loc[row_indexer,col_indexer] = value instead\n",
      "\n",
      "See the caveats in the documentation: https://pandas.pydata.org/pandas-docs/stable/user_guide/indexing.html#returning-a-view-versus-a-copy\n",
      "  paises_regiao_sem_nulos['Cod'], paises_regiao_sem_nulos['Nome Pais'], paises_regiao_sem_nulos['Capital'], paises_regiao_sem_nulos['Região'] = zip(*paises_regiao_sem_nulos.apply(extrair_info_pais, axis=1))\n",
      "C:\\Users\\bianc\\AppData\\Local\\Temp\\ipykernel_11184\\3838139320.py:22: SettingWithCopyWarning: \n",
      "A value is trying to be set on a copy of a slice from a DataFrame\n",
      "\n",
      "See the caveats in the documentation: https://pandas.pydata.org/pandas-docs/stable/user_guide/indexing.html#returning-a-view-versus-a-copy\n",
      "  paises_regiao_sem_nulos.drop(columns=['name'], inplace=True)\n",
      "C:\\Users\\bianc\\AppData\\Local\\Temp\\ipykernel_11184\\3838139320.py:23: SettingWithCopyWarning: \n",
      "A value is trying to be set on a copy of a slice from a DataFrame\n",
      "\n",
      "See the caveats in the documentation: https://pandas.pydata.org/pandas-docs/stable/user_guide/indexing.html#returning-a-view-versus-a-copy\n",
      "  paises_regiao_sem_nulos.drop(columns=['ccn3'], inplace=True)\n",
      "C:\\Users\\bianc\\AppData\\Local\\Temp\\ipykernel_11184\\3838139320.py:24: SettingWithCopyWarning: \n",
      "A value is trying to be set on a copy of a slice from a DataFrame\n",
      "\n",
      "See the caveats in the documentation: https://pandas.pydata.org/pandas-docs/stable/user_guide/indexing.html#returning-a-view-versus-a-copy\n",
      "  paises_regiao_sem_nulos.drop(columns=['region'], inplace=True)\n",
      "C:\\Users\\bianc\\AppData\\Local\\Temp\\ipykernel_11184\\3838139320.py:25: SettingWithCopyWarning: \n",
      "A value is trying to be set on a copy of a slice from a DataFrame\n",
      "\n",
      "See the caveats in the documentation: https://pandas.pydata.org/pandas-docs/stable/user_guide/indexing.html#returning-a-view-versus-a-copy\n",
      "  paises_regiao_sem_nulos.drop(columns=['capital'], inplace=True)\n"
     ]
    }
   ],
   "source": [
    "#BASE REGIAO\n",
    "paises_regiao_sem_nulos1 = pd.read_csv('paises_regiao.csv')\n",
    "\n",
    "paises_regiao_sem_nulos = paises_regiao_sem_nulos1.dropna(how='any')\n",
    "\n",
    "#def para extrair código e o nome da moeda\n",
    "def extrair_info_pais(row):\n",
    "    try:\n",
    "        codigo = row['ccn3']\n",
    "        info_nome = ast.literal_eval(row['name'])  # Converte a string para um dicionário Python\n",
    "        nome_pais = info_nome['common']\n",
    "        capital = ast.literal_eval(row['capital'])[0]\n",
    "        regiao = row['region']\n",
    "        return codigo, nome_pais, capital, regiao\n",
    "    except (KeyError, ValueError, SyntaxError, IndexError):\n",
    "        return None, None, None, None\n",
    "\n",
    "# Aplicar a função para extrair o nome do país, capital e região e criar novas colunas\n",
    "paises_regiao_sem_nulos['Cod'], paises_regiao_sem_nulos['Nome Pais'], paises_regiao_sem_nulos['Capital'], paises_regiao_sem_nulos['Região'] = zip(*paises_regiao_sem_nulos.apply(extrair_info_pais, axis=1))\n",
    "\n",
    "#exclusao colunas \"Moeda\" e \"ccn3\"\n",
    "paises_regiao_sem_nulos.drop(columns=['name'], inplace=True)\n",
    "paises_regiao_sem_nulos.drop(columns=['ccn3'], inplace=True)\n",
    "paises_regiao_sem_nulos.drop(columns=['region'], inplace=True)\n",
    "paises_regiao_sem_nulos.drop(columns=['capital'], inplace=True)\n",
    "\n",
    "print(paises_regiao_sem_nulos)"
   ]
  },
  {
   "cell_type": "code",
   "execution_count": 101,
   "metadata": {},
   "outputs": [
    {
     "name": "stdout",
     "output_type": "stream",
     "text": [
      "\n",
      "Valores ausentes em paises_area:\n",
      "Cod          4\n",
      "Nome Pais    4\n",
      "Capital      4\n",
      "Região       4\n",
      "dtype: int64\n"
     ]
    }
   ],
   "source": [
    "print(\"\\nValores ausentes em paises_area:\")\n",
    "print(paises_regiao_sem_nulos.isna().sum())"
   ]
  },
  {
   "cell_type": "code",
   "execution_count": 102,
   "metadata": {},
   "outputs": [
    {
     "name": "stdout",
     "output_type": "stream",
     "text": [
      "       Cod                      Moeda\n",
      "0    498.0               Moldovan leu\n",
      "1    840.0       United States dollar\n",
      "2    175.0                       Euro\n",
      "3    520.0          Australian dollar\n",
      "4    508.0         Mozambican metical\n",
      "..     ...                        ...\n",
      "245  204.0     West African CFA franc\n",
      "246  392.0               Japanese yen\n",
      "247  214.0             Dominican peso\n",
      "248  634.0               Qatari riyal\n",
      "249  266.0  Central African CFA franc\n",
      "\n",
      "[249 rows x 2 columns]\n"
     ]
    },
    {
     "name": "stderr",
     "output_type": "stream",
     "text": [
      "C:\\Users\\bianc\\AppData\\Local\\Temp\\ipykernel_11184\\175211324.py:17: SettingWithCopyWarning: \n",
      "A value is trying to be set on a copy of a slice from a DataFrame.\n",
      "Try using .loc[row_indexer,col_indexer] = value instead\n",
      "\n",
      "See the caveats in the documentation: https://pandas.pydata.org/pandas-docs/stable/user_guide/indexing.html#returning-a-view-versus-a-copy\n",
      "  paises_moeda_sem_nulos['Cod'], paises_moeda_sem_nulos['Moeda'] = zip(*paises_moeda_sem_nulos.apply(extrair_codigo_e_nome_moeda, axis=1))\n",
      "C:\\Users\\bianc\\AppData\\Local\\Temp\\ipykernel_11184\\175211324.py:17: SettingWithCopyWarning: \n",
      "A value is trying to be set on a copy of a slice from a DataFrame.\n",
      "Try using .loc[row_indexer,col_indexer] = value instead\n",
      "\n",
      "See the caveats in the documentation: https://pandas.pydata.org/pandas-docs/stable/user_guide/indexing.html#returning-a-view-versus-a-copy\n",
      "  paises_moeda_sem_nulos['Cod'], paises_moeda_sem_nulos['Moeda'] = zip(*paises_moeda_sem_nulos.apply(extrair_codigo_e_nome_moeda, axis=1))\n",
      "C:\\Users\\bianc\\AppData\\Local\\Temp\\ipykernel_11184\\175211324.py:20: SettingWithCopyWarning: \n",
      "A value is trying to be set on a copy of a slice from a DataFrame\n",
      "\n",
      "See the caveats in the documentation: https://pandas.pydata.org/pandas-docs/stable/user_guide/indexing.html#returning-a-view-versus-a-copy\n",
      "  paises_moeda_sem_nulos.drop(columns=['currencies'], inplace=True)\n",
      "C:\\Users\\bianc\\AppData\\Local\\Temp\\ipykernel_11184\\175211324.py:21: SettingWithCopyWarning: \n",
      "A value is trying to be set on a copy of a slice from a DataFrame\n",
      "\n",
      "See the caveats in the documentation: https://pandas.pydata.org/pandas-docs/stable/user_guide/indexing.html#returning-a-view-versus-a-copy\n",
      "  paises_moeda_sem_nulos.drop(columns=['ccn3'], inplace=True)\n"
     ]
    }
   ],
   "source": [
    "#BASE MOEDA\n",
    "paises_moeda_sem_nulos1 = pd.read_csv('paises_moeda.csv')\n",
    "\n",
    "paises_moeda_sem_nulos = paises_moeda_sem_nulos1.dropna()\n",
    "\n",
    "#def para extrair código e o nome da moeda\n",
    "def extrair_codigo_e_nome_moeda(row):\n",
    "    try:\n",
    "        codigo = row['ccn3']\n",
    "        info_moeda = ast.literal_eval(row['currencies'])  #converte string para um dict\n",
    "        nome_moeda = list(info_moeda.values())[0]['name']\n",
    "        return codigo, nome_moeda\n",
    "    except (KeyError, ValueError, SyntaxError, IndexError):\n",
    "        return None, None\n",
    "\n",
    "#usa a def para extrair o código e o nome da moeda criando novas colunas\n",
    "paises_moeda_sem_nulos['Cod'], paises_moeda_sem_nulos['Moeda'] = zip(*paises_moeda_sem_nulos.apply(extrair_codigo_e_nome_moeda, axis=1))\n",
    "\n",
    "#exclusao colunas \"Moeda\" e \"ccn3\"\n",
    "paises_moeda_sem_nulos.drop(columns=['currencies'], inplace=True)\n",
    "paises_moeda_sem_nulos.drop(columns=['ccn3'], inplace=True)\n",
    "\n",
    "print(paises_moeda_sem_nulos)"
   ]
  },
  {
   "cell_type": "code",
   "execution_count": 103,
   "metadata": {},
   "outputs": [
    {
     "name": "stdout",
     "output_type": "stream",
     "text": [
      "\n",
      "Valores ausentes em paises_area:\n",
      "Cod      3\n",
      "Moeda    3\n",
      "dtype: int64\n"
     ]
    }
   ],
   "source": [
    "print(\"\\nValores ausentes em paises_area:\")\n",
    "print(paises_moeda_sem_nulos.isna().sum())"
   ]
  },
  {
   "cell_type": "code",
   "execution_count": 104,
   "metadata": {},
   "outputs": [
    {
     "name": "stdout",
     "output_type": "stream",
     "text": [
      "       Cod                  Coordenadas       Área  População\n",
      "0    498.0                 [47.0, 29.0]    33846.0    2617820\n",
      "1    840.0                [38.0, -97.0]  9372610.0  329484123\n",
      "2    175.0  [-12.83333333, 45.16666666]      374.0     226915\n",
      "3    520.0  [-0.53333333, 166.91666666]       21.0      10834\n",
      "4    508.0               [-18.25, 35.0]   801590.0   31255435\n",
      "..     ...                          ...        ...        ...\n",
      "245  204.0                  [9.5, 2.25]   112622.0   12123198\n",
      "246  392.0                [36.0, 138.0]   377930.0  125836021\n",
      "247  214.0         [19.0, -70.66666666]    48671.0   10847904\n",
      "248  634.0                [25.5, 51.25]    11586.0    2881060\n",
      "249  266.0                [-1.0, 11.75]   267668.0    2225728\n",
      "\n",
      "[249 rows x 4 columns]\n"
     ]
    },
    {
     "name": "stderr",
     "output_type": "stream",
     "text": [
      "C:\\Users\\bianc\\AppData\\Local\\Temp\\ipykernel_11184\\3134800525.py:6: SettingWithCopyWarning: \n",
      "A value is trying to be set on a copy of a slice from a DataFrame\n",
      "\n",
      "See the caveats in the documentation: https://pandas.pydata.org/pandas-docs/stable/user_guide/indexing.html#returning-a-view-versus-a-copy\n",
      "  paises_area_sem_nulos.rename(columns={'ccn3': 'Cod', 'latlng': 'Coordenadas', 'area': 'Área', 'population': 'População'}, inplace=True)\n"
     ]
    }
   ],
   "source": [
    "#BASE AREA\n",
    "df = pd.read_csv('paises_area.csv')\n",
    "\n",
    "# Remover linhas com valores nulos em qualquer coluna\n",
    "paises_area_sem_nulos = df.dropna()\n",
    "paises_area_sem_nulos.rename(columns={'ccn3': 'Cod', 'latlng': 'Coordenadas', 'area': 'Área', 'population': 'População'}, inplace=True)\n",
    "\n",
    "print(paises_area_sem_nulos)"
   ]
  },
  {
   "cell_type": "code",
   "execution_count": 105,
   "metadata": {},
   "outputs": [
    {
     "name": "stdout",
     "output_type": "stream",
     "text": [
      "\n",
      "Valores ausentes em paises_area:\n",
      "Cod            0\n",
      "Coordenadas    0\n",
      "Área           0\n",
      "População      0\n",
      "dtype: int64\n"
     ]
    }
   ],
   "source": [
    "print(\"\\nValores ausentes em paises_area:\")\n",
    "print(paises_area_sem_nulos.isna().sum())"
   ]
  },
  {
   "cell_type": "code",
   "execution_count": 79,
   "metadata": {},
   "outputs": [],
   "source": [
    "paises_regiao_sem_nulos.to_csv('analitica_paises_regiao_tratada.csv', index=False)\n",
    "paises_moeda_sem_nulos.to_csv('analitica_paises_moeda_tratada.csv', index=False)\n",
    "paises_area_sem_nulos.to_csv('analitica_paises_area_tratada.csv', index=False)"
   ]
  },
  {
   "cell_type": "code",
   "execution_count": 80,
   "metadata": {},
   "outputs": [
    {
     "name": "stdout",
     "output_type": "stream",
     "text": [
      "Tipos de variáveis em paises_regiao:\n",
      "<class 'pandas.core.frame.DataFrame'>\n",
      "Int64Index: 249 entries, 0 to 249\n",
      "Data columns (total 4 columns):\n",
      " #   Column     Non-Null Count  Dtype  \n",
      "---  ------     --------------  -----  \n",
      " 0   Cod        245 non-null    float64\n",
      " 1   Nome Pais  245 non-null    object \n",
      " 2   Capital    245 non-null    object \n",
      " 3   Região     245 non-null    object \n",
      "dtypes: float64(1), object(3)\n",
      "memory usage: 9.7+ KB\n",
      "None\n",
      "\n",
      "Tipos de variáveis em paises_moeda:\n",
      "<class 'pandas.core.frame.DataFrame'>\n",
      "Int64Index: 249 entries, 0 to 249\n",
      "Data columns (total 2 columns):\n",
      " #   Column  Non-Null Count  Dtype  \n",
      "---  ------  --------------  -----  \n",
      " 0   Cod     246 non-null    float64\n",
      " 1   Moeda   246 non-null    object \n",
      "dtypes: float64(1), object(1)\n",
      "memory usage: 5.8+ KB\n",
      "None\n",
      "\n",
      "Tipos de variáveis em paises_area:\n",
      "<class 'pandas.core.frame.DataFrame'>\n",
      "Int64Index: 249 entries, 0 to 249\n",
      "Data columns (total 4 columns):\n",
      " #   Column       Non-Null Count  Dtype  \n",
      "---  ------       --------------  -----  \n",
      " 0   Cod          249 non-null    float64\n",
      " 1   Coordenadas  249 non-null    object \n",
      " 2   Área         249 non-null    float64\n",
      " 3   População    249 non-null    int64  \n",
      "dtypes: float64(2), int64(1), object(1)\n",
      "memory usage: 9.7+ KB\n",
      "None\n"
     ]
    }
   ],
   "source": [
    "#Próximo passo é analisar os tipos de variáveis em cada dataframe\n",
    "print(\"Tipos de variáveis em paises_regiao:\")\n",
    "print(paises_regiao_sem_nulos.info())\n",
    "\n",
    "print(\"\\nTipos de variáveis em paises_moeda:\")\n",
    "print(paises_moeda_sem_nulos.info())\n",
    "\n",
    "print(\"\\nTipos de variáveis em paises_area:\")\n",
    "print(paises_area_sem_nulos.info())"
   ]
  },
  {
   "cell_type": "code",
   "execution_count": 81,
   "metadata": {},
   "outputs": [
    {
     "name": "stdout",
     "output_type": "stream",
     "text": [
      "Valores ausentes em paises_regiao:\n",
      "Cod          4\n",
      "Nome Pais    4\n",
      "Capital      4\n",
      "Região       4\n",
      "dtype: int64\n",
      "\n",
      "Valores ausentes em paises_moeda:\n",
      "Cod      3\n",
      "Moeda    3\n",
      "dtype: int64\n",
      "\n",
      "Valores ausentes em paises_area:\n",
      "Cod            0\n",
      "Coordenadas    0\n",
      "Área           0\n",
      "População      0\n",
      "dtype: int64\n"
     ]
    }
   ],
   "source": [
    "#Agora vamos analisar os valores ausentes\n",
    "print(\"Valores ausentes em paises_regiao:\")\n",
    "print(paises_regiao_sem_nulos.isna().sum())\n",
    "\n",
    "print(\"\\nValores ausentes em paises_moeda:\")\n",
    "print(paises_moeda_sem_nulos.isna().sum())\n",
    "\n",
    "print(\"\\nValores ausentes em paises_area:\")\n",
    "print(paises_area_sem_nulos.isna().sum())"
   ]
  },
  {
   "cell_type": "code",
   "execution_count": 107,
   "metadata": {},
   "outputs": [
    {
     "name": "stdout",
     "output_type": "stream",
     "text": [
      "       Cod           Nome Pais           Capital    Região  \\\n",
      "0    498.0             Moldova          Chișinău    Europe   \n",
      "1    840.0       United States  Washington, D.C.  Americas   \n",
      "2    175.0             Mayotte         Mamoudzou    Africa   \n",
      "3    520.0               Nauru             Yaren   Oceania   \n",
      "4    508.0          Mozambique            Maputo    Africa   \n",
      "..     ...                 ...               ...       ...   \n",
      "240  204.0               Benin        Porto-Novo    Africa   \n",
      "241  392.0               Japan             Tokyo      Asia   \n",
      "242  214.0  Dominican Republic     Santo Domingo  Americas   \n",
      "243  634.0               Qatar              Doha      Asia   \n",
      "244  266.0               Gabon        Libreville    Africa   \n",
      "\n",
      "                         Moeda                  Coordenadas       Área  \\\n",
      "0                 Moldovan leu                 [47.0, 29.0]    33846.0   \n",
      "1         United States dollar                [38.0, -97.0]  9372610.0   \n",
      "2                         Euro  [-12.83333333, 45.16666666]      374.0   \n",
      "3            Australian dollar  [-0.53333333, 166.91666666]       21.0   \n",
      "4           Mozambican metical               [-18.25, 35.0]   801590.0   \n",
      "..                         ...                          ...        ...   \n",
      "240     West African CFA franc                  [9.5, 2.25]   112622.0   \n",
      "241               Japanese yen                [36.0, 138.0]   377930.0   \n",
      "242             Dominican peso         [19.0, -70.66666666]    48671.0   \n",
      "243               Qatari riyal                [25.5, 51.25]    11586.0   \n",
      "244  Central African CFA franc                [-1.0, 11.75]   267668.0   \n",
      "\n",
      "     População  \n",
      "0      2617820  \n",
      "1    329484123  \n",
      "2       226915  \n",
      "3        10834  \n",
      "4     31255435  \n",
      "..         ...  \n",
      "240   12123198  \n",
      "241  125836021  \n",
      "242   10847904  \n",
      "243    2881060  \n",
      "244    2225728  \n",
      "\n",
      "[245 rows x 8 columns]\n"
     ]
    }
   ],
   "source": [
    "# primeiro join (regiao e moda) usando a chave \"cod\"\n",
    "final_df = pd.merge(paises_regiao_sem_nulos, paises_moeda_sem_nulos, on='Cod', how='inner')\n",
    "\n",
    "# segundo join (merged_df com area) usando a chave \"cod\"\n",
    "basefull = pd.merge(final_df, paises_area_sem_nulos, on='Cod', how='inner')\n",
    "\n",
    "# Exibir o DataFrame resultante\n",
    "print(basefull)"
   ]
  },
  {
   "cell_type": "markdown",
   "metadata": {},
   "source": [
    "CRIACAO TABELA - BANCO DE DADOS"
   ]
  },
  {
   "cell_type": "code",
   "execution_count": 108,
   "metadata": {},
   "outputs": [],
   "source": [
    "\n",
    "basefull.to_csv('analitica_paises_tratada.csv', index=False)\n",
    "\n",
    "#criando o arquivo do banco de dados\n",
    "conn = sqlite3.connect('basefull.db')\n",
    "\n",
    "cursor = conn.cursor()"
   ]
  },
  {
   "cell_type": "code",
   "execution_count": 10,
   "metadata": {},
   "outputs": [],
   "source": [
    "# Criando uma tabela para armazenar os países com informações \n",
    "cursor.execute('''\n",
    "    CREATE TABLE paises (\n",
    "        id INTEGER PRIMARY KEY,\n",
    "        nome TEXT,\n",
    "        codigo INTEGER,\n",
    "        capital TEXT,\n",
    "        regiao TEXT\n",
    "    )\n",
    "''')\n",
    "\n",
    "for index, row in paises_regiao.iterrows():\n",
    "    cursor.execute('''\n",
    "        INSERT INTO paises (nome, codigo, capital, regiao) VALUES (?, ?, ?, ?)\n",
    "    ''', (row['Nome'], row['Código'], row['Capital'], row['Região']))\n",
    "\n",
    "conn.commit()\n",
    "cursor.close()\n",
    "conn.close()"
   ]
  },
  {
   "cell_type": "code",
   "execution_count": null,
   "metadata": {},
   "outputs": [],
   "source": []
  }
 ],
 "metadata": {
  "kernelspec": {
   "display_name": "base",
   "language": "python",
   "name": "python3"
  },
  "language_info": {
   "codemirror_mode": {
    "name": "ipython",
    "version": 3
   },
   "file_extension": ".py",
   "mimetype": "text/x-python",
   "name": "python",
   "nbconvert_exporter": "python",
   "pygments_lexer": "ipython3",
   "version": "3.8.16"
  }
 },
 "nbformat": 4,
 "nbformat_minor": 2
}
