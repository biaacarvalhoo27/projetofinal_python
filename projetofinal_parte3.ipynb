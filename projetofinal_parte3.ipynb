{
 "cells": [
  {
   "cell_type": "markdown",
   "metadata": {},
   "source": [
    "IMPORT LIBS"
   ]
  },
  {
   "cell_type": "code",
   "execution_count": 1,
   "metadata": {
    "ExecuteTime": {
     "end_time": "2024-04-18T12:51:41.258968Z",
     "start_time": "2024-04-18T12:51:41.251384Z"
    }
   },
   "outputs": [],
   "source": [
    "import ast\n",
    "import sqlite3\n",
    "import pandas as pd"
   ]
  },
  {
   "cell_type": "markdown",
   "metadata": {},
   "source": [
    "LEITURA ARQUIVOS CSV"
   ]
  },
  {
   "cell_type": "code",
   "execution_count": 2,
   "metadata": {
    "ExecuteTime": {
     "end_time": "2024-04-18T12:51:43.291902Z",
     "start_time": "2024-04-18T12:51:43.283176Z"
    }
   },
   "outputs": [],
   "source": [
    "paises_regiao = pd.read_csv('paises_regiao.csv')\n",
    "paises_moeda = pd.read_csv('paises_moeda.csv')\n",
    "paises_area = pd.read_csv('paises_area.csv')"
   ]
  },
  {
   "cell_type": "markdown",
   "metadata": {},
   "source": [
    "TRATAMENTO DAS BASES"
   ]
  },
  {
   "cell_type": "code",
   "execution_count": 3,
   "metadata": {
    "ExecuteTime": {
     "end_time": "2024-04-18T12:51:44.354712Z",
     "start_time": "2024-04-18T12:51:44.326740Z"
    }
   },
   "outputs": [
    {
     "name": "stdout",
     "output_type": "stream",
     "text": [
      "       Cod           Nome Pais           Capital    Região\n",
      "0    498.0             Moldova          Chișinău    Europe\n",
      "1    840.0       United States  Washington, D.C.  Americas\n",
      "2    175.0             Mayotte         Mamoudzou    Africa\n",
      "3    520.0               Nauru             Yaren   Oceania\n",
      "4    508.0          Mozambique            Maputo    Africa\n",
      "..     ...                 ...               ...       ...\n",
      "245  204.0               Benin        Porto-Novo    Africa\n",
      "246  392.0               Japan             Tokyo      Asia\n",
      "247  214.0  Dominican Republic     Santo Domingo  Americas\n",
      "248  634.0               Qatar              Doha      Asia\n",
      "249  266.0               Gabon        Libreville    Africa\n",
      "\n",
      "[249 rows x 4 columns]\n"
     ]
    },
    {
     "name": "stderr",
     "output_type": "stream",
     "text": [
      "C:\\Users\\bianc\\AppData\\Local\\Temp\\ipykernel_800\\3838139320.py:19: SettingWithCopyWarning: \n",
      "A value is trying to be set on a copy of a slice from a DataFrame.\n",
      "Try using .loc[row_indexer,col_indexer] = value instead\n",
      "\n",
      "See the caveats in the documentation: https://pandas.pydata.org/pandas-docs/stable/user_guide/indexing.html#returning-a-view-versus-a-copy\n",
      "  paises_regiao_sem_nulos['Cod'], paises_regiao_sem_nulos['Nome Pais'], paises_regiao_sem_nulos['Capital'], paises_regiao_sem_nulos['Região'] = zip(*paises_regiao_sem_nulos.apply(extrair_info_pais, axis=1))\n",
      "C:\\Users\\bianc\\AppData\\Local\\Temp\\ipykernel_800\\3838139320.py:19: SettingWithCopyWarning: \n",
      "A value is trying to be set on a copy of a slice from a DataFrame.\n",
      "Try using .loc[row_indexer,col_indexer] = value instead\n",
      "\n",
      "See the caveats in the documentation: https://pandas.pydata.org/pandas-docs/stable/user_guide/indexing.html#returning-a-view-versus-a-copy\n",
      "  paises_regiao_sem_nulos['Cod'], paises_regiao_sem_nulos['Nome Pais'], paises_regiao_sem_nulos['Capital'], paises_regiao_sem_nulos['Região'] = zip(*paises_regiao_sem_nulos.apply(extrair_info_pais, axis=1))\n",
      "C:\\Users\\bianc\\AppData\\Local\\Temp\\ipykernel_800\\3838139320.py:19: SettingWithCopyWarning: \n",
      "A value is trying to be set on a copy of a slice from a DataFrame.\n",
      "Try using .loc[row_indexer,col_indexer] = value instead\n",
      "\n",
      "See the caveats in the documentation: https://pandas.pydata.org/pandas-docs/stable/user_guide/indexing.html#returning-a-view-versus-a-copy\n",
      "  paises_regiao_sem_nulos['Cod'], paises_regiao_sem_nulos['Nome Pais'], paises_regiao_sem_nulos['Capital'], paises_regiao_sem_nulos['Região'] = zip(*paises_regiao_sem_nulos.apply(extrair_info_pais, axis=1))\n",
      "C:\\Users\\bianc\\AppData\\Local\\Temp\\ipykernel_800\\3838139320.py:19: SettingWithCopyWarning: \n",
      "A value is trying to be set on a copy of a slice from a DataFrame.\n",
      "Try using .loc[row_indexer,col_indexer] = value instead\n",
      "\n",
      "See the caveats in the documentation: https://pandas.pydata.org/pandas-docs/stable/user_guide/indexing.html#returning-a-view-versus-a-copy\n",
      "  paises_regiao_sem_nulos['Cod'], paises_regiao_sem_nulos['Nome Pais'], paises_regiao_sem_nulos['Capital'], paises_regiao_sem_nulos['Região'] = zip(*paises_regiao_sem_nulos.apply(extrair_info_pais, axis=1))\n",
      "C:\\Users\\bianc\\AppData\\Local\\Temp\\ipykernel_800\\3838139320.py:22: SettingWithCopyWarning: \n",
      "A value is trying to be set on a copy of a slice from a DataFrame\n",
      "\n",
      "See the caveats in the documentation: https://pandas.pydata.org/pandas-docs/stable/user_guide/indexing.html#returning-a-view-versus-a-copy\n",
      "  paises_regiao_sem_nulos.drop(columns=['name'], inplace=True)\n",
      "C:\\Users\\bianc\\AppData\\Local\\Temp\\ipykernel_800\\3838139320.py:23: SettingWithCopyWarning: \n",
      "A value is trying to be set on a copy of a slice from a DataFrame\n",
      "\n",
      "See the caveats in the documentation: https://pandas.pydata.org/pandas-docs/stable/user_guide/indexing.html#returning-a-view-versus-a-copy\n",
      "  paises_regiao_sem_nulos.drop(columns=['ccn3'], inplace=True)\n",
      "C:\\Users\\bianc\\AppData\\Local\\Temp\\ipykernel_800\\3838139320.py:24: SettingWithCopyWarning: \n",
      "A value is trying to be set on a copy of a slice from a DataFrame\n",
      "\n",
      "See the caveats in the documentation: https://pandas.pydata.org/pandas-docs/stable/user_guide/indexing.html#returning-a-view-versus-a-copy\n",
      "  paises_regiao_sem_nulos.drop(columns=['region'], inplace=True)\n",
      "C:\\Users\\bianc\\AppData\\Local\\Temp\\ipykernel_800\\3838139320.py:25: SettingWithCopyWarning: \n",
      "A value is trying to be set on a copy of a slice from a DataFrame\n",
      "\n",
      "See the caveats in the documentation: https://pandas.pydata.org/pandas-docs/stable/user_guide/indexing.html#returning-a-view-versus-a-copy\n",
      "  paises_regiao_sem_nulos.drop(columns=['capital'], inplace=True)\n"
     ]
    }
   ],
   "source": [
    "#BASE REGIAO\n",
    "paises_regiao_sem_nulos1 = pd.read_csv('paises_regiao.csv')\n",
    "\n",
    "paises_regiao_sem_nulos = paises_regiao_sem_nulos1.dropna(how='any')\n",
    "\n",
    "#def para extrair código e o nome da moeda\n",
    "def extrair_info_pais(row):\n",
    "    try:\n",
    "        codigo = row['ccn3']\n",
    "        info_nome = ast.literal_eval(row['name'])  # Converte a string para um dicionário Python\n",
    "        nome_pais = info_nome['common']\n",
    "        capital = ast.literal_eval(row['capital'])[0]\n",
    "        regiao = row['region']\n",
    "        return codigo, nome_pais, capital, regiao\n",
    "    except (KeyError, ValueError, SyntaxError, IndexError):\n",
    "        return None, None, None, None\n",
    "\n",
    "# Aplicar a função para extrair o nome do país, capital e região e criar novas colunas\n",
    "paises_regiao_sem_nulos['Cod'], paises_regiao_sem_nulos['Nome Pais'], paises_regiao_sem_nulos['Capital'], paises_regiao_sem_nulos['Região'] = zip(*paises_regiao_sem_nulos.apply(extrair_info_pais, axis=1))\n",
    "\n",
    "#exclusao colunas \"Moeda\" e \"ccn3\"\n",
    "paises_regiao_sem_nulos.drop(columns=['name'], inplace=True)\n",
    "paises_regiao_sem_nulos.drop(columns=['ccn3'], inplace=True)\n",
    "paises_regiao_sem_nulos.drop(columns=['region'], inplace=True)\n",
    "paises_regiao_sem_nulos.drop(columns=['capital'], inplace=True)\n",
    "\n",
    "print(paises_regiao_sem_nulos)"
   ]
  },
  {
   "cell_type": "code",
   "execution_count": 4,
   "metadata": {
    "ExecuteTime": {
     "end_time": "2024-04-18T12:51:48.726849Z",
     "start_time": "2024-04-18T12:51:48.712032Z"
    }
   },
   "outputs": [
    {
     "name": "stdout",
     "output_type": "stream",
     "text": [
      "       Cod                      Moeda\n",
      "0    498.0               Moldovan leu\n",
      "1    840.0       United States dollar\n",
      "2    175.0                       Euro\n",
      "3    520.0          Australian dollar\n",
      "4    508.0         Mozambican metical\n",
      "..     ...                        ...\n",
      "245  204.0     West African CFA franc\n",
      "246  392.0               Japanese yen\n",
      "247  214.0             Dominican peso\n",
      "248  634.0               Qatari riyal\n",
      "249  266.0  Central African CFA franc\n",
      "\n",
      "[249 rows x 2 columns]\n"
     ]
    },
    {
     "name": "stderr",
     "output_type": "stream",
     "text": [
      "C:\\Users\\bianc\\AppData\\Local\\Temp\\ipykernel_800\\175211324.py:17: SettingWithCopyWarning: \n",
      "A value is trying to be set on a copy of a slice from a DataFrame.\n",
      "Try using .loc[row_indexer,col_indexer] = value instead\n",
      "\n",
      "See the caveats in the documentation: https://pandas.pydata.org/pandas-docs/stable/user_guide/indexing.html#returning-a-view-versus-a-copy\n",
      "  paises_moeda_sem_nulos['Cod'], paises_moeda_sem_nulos['Moeda'] = zip(*paises_moeda_sem_nulos.apply(extrair_codigo_e_nome_moeda, axis=1))\n",
      "C:\\Users\\bianc\\AppData\\Local\\Temp\\ipykernel_800\\175211324.py:17: SettingWithCopyWarning: \n",
      "A value is trying to be set on a copy of a slice from a DataFrame.\n",
      "Try using .loc[row_indexer,col_indexer] = value instead\n",
      "\n",
      "See the caveats in the documentation: https://pandas.pydata.org/pandas-docs/stable/user_guide/indexing.html#returning-a-view-versus-a-copy\n",
      "  paises_moeda_sem_nulos['Cod'], paises_moeda_sem_nulos['Moeda'] = zip(*paises_moeda_sem_nulos.apply(extrair_codigo_e_nome_moeda, axis=1))\n",
      "C:\\Users\\bianc\\AppData\\Local\\Temp\\ipykernel_800\\175211324.py:20: SettingWithCopyWarning: \n",
      "A value is trying to be set on a copy of a slice from a DataFrame\n",
      "\n",
      "See the caveats in the documentation: https://pandas.pydata.org/pandas-docs/stable/user_guide/indexing.html#returning-a-view-versus-a-copy\n",
      "  paises_moeda_sem_nulos.drop(columns=['currencies'], inplace=True)\n",
      "C:\\Users\\bianc\\AppData\\Local\\Temp\\ipykernel_800\\175211324.py:21: SettingWithCopyWarning: \n",
      "A value is trying to be set on a copy of a slice from a DataFrame\n",
      "\n",
      "See the caveats in the documentation: https://pandas.pydata.org/pandas-docs/stable/user_guide/indexing.html#returning-a-view-versus-a-copy\n",
      "  paises_moeda_sem_nulos.drop(columns=['ccn3'], inplace=True)\n"
     ]
    }
   ],
   "source": [
    "#BASE MOEDA\n",
    "paises_moeda_sem_nulos1 = pd.read_csv('paises_moeda.csv')\n",
    "\n",
    "paises_moeda_sem_nulos = paises_moeda_sem_nulos1.dropna()\n",
    "\n",
    "#def para extrair código e o nome da moeda\n",
    "def extrair_codigo_e_nome_moeda(row):\n",
    "    try:\n",
    "        codigo = row['ccn3']\n",
    "        info_moeda = ast.literal_eval(row['currencies'])  #converte string para um dict\n",
    "        nome_moeda = list(info_moeda.values())[0]['name']\n",
    "        return codigo, nome_moeda\n",
    "    except (KeyError, ValueError, SyntaxError, IndexError):\n",
    "        return None, None\n",
    "\n",
    "#usa a def para extrair o código e o nome da moeda criando novas colunas\n",
    "paises_moeda_sem_nulos['Cod'], paises_moeda_sem_nulos['Moeda'] = zip(*paises_moeda_sem_nulos.apply(extrair_codigo_e_nome_moeda, axis=1))\n",
    "\n",
    "#exclusao colunas \"Moeda\" e \"ccn3\"\n",
    "paises_moeda_sem_nulos.drop(columns=['currencies'], inplace=True)\n",
    "paises_moeda_sem_nulos.drop(columns=['ccn3'], inplace=True)\n",
    "\n",
    "print(paises_moeda_sem_nulos)"
   ]
  },
  {
   "cell_type": "code",
   "execution_count": 5,
   "metadata": {
    "ExecuteTime": {
     "end_time": "2024-04-18T12:51:50.875336Z",
     "start_time": "2024-04-18T12:51:50.863017Z"
    }
   },
   "outputs": [
    {
     "name": "stdout",
     "output_type": "stream",
     "text": [
      "       Cod                  Coordenadas       Área  População\n",
      "0    498.0                 [47.0, 29.0]    33846.0    2617820\n",
      "1    840.0                [38.0, -97.0]  9372610.0  329484123\n",
      "2    175.0  [-12.83333333, 45.16666666]      374.0     226915\n",
      "3    520.0  [-0.53333333, 166.91666666]       21.0      10834\n",
      "4    508.0               [-18.25, 35.0]   801590.0   31255435\n",
      "..     ...                          ...        ...        ...\n",
      "245  204.0                  [9.5, 2.25]   112622.0   12123198\n",
      "246  392.0                [36.0, 138.0]   377930.0  125836021\n",
      "247  214.0         [19.0, -70.66666666]    48671.0   10847904\n",
      "248  634.0                [25.5, 51.25]    11586.0    2881060\n",
      "249  266.0                [-1.0, 11.75]   267668.0    2225728\n",
      "\n",
      "[249 rows x 4 columns]\n"
     ]
    },
    {
     "name": "stderr",
     "output_type": "stream",
     "text": [
      "C:\\Users\\bianc\\AppData\\Local\\Temp\\ipykernel_800\\3134800525.py:6: SettingWithCopyWarning: \n",
      "A value is trying to be set on a copy of a slice from a DataFrame\n",
      "\n",
      "See the caveats in the documentation: https://pandas.pydata.org/pandas-docs/stable/user_guide/indexing.html#returning-a-view-versus-a-copy\n",
      "  paises_area_sem_nulos.rename(columns={'ccn3': 'Cod', 'latlng': 'Coordenadas', 'area': 'Área', 'population': 'População'}, inplace=True)\n"
     ]
    }
   ],
   "source": [
    "#BASE AREA\n",
    "df = pd.read_csv('paises_area.csv')\n",
    "\n",
    "# Remover linhas com valores nulos em qualquer coluna\n",
    "paises_area_sem_nulos = df.dropna()\n",
    "paises_area_sem_nulos.rename(columns={'ccn3': 'Cod', 'latlng': 'Coordenadas', 'area': 'Área', 'population': 'População'}, inplace=True)\n",
    "\n",
    "print(paises_area_sem_nulos)"
   ]
  },
  {
   "cell_type": "markdown",
   "metadata": {},
   "source": [
    "SALVA BASES TRATADAS EM CSV"
   ]
  },
  {
   "cell_type": "code",
   "execution_count": 6,
   "metadata": {
    "ExecuteTime": {
     "end_time": "2024-04-18T12:51:52.376700Z",
     "start_time": "2024-04-18T12:51:52.365998Z"
    }
   },
   "outputs": [],
   "source": [
    "paises_regiao_sem_nulos.to_csv('analitica_paises_regiao_tratada.csv', index=False)\n",
    "paises_moeda_sem_nulos.to_csv('analitica_paises_moeda_tratada.csv', index=False)\n",
    "paises_area_sem_nulos.to_csv('analitica_paises_area_tratada.csv', index=False)"
   ]
  },
  {
   "cell_type": "markdown",
   "metadata": {},
   "source": [
    "TIPOS DE VARIAVEIS DE CADA DF"
   ]
  },
  {
   "cell_type": "code",
   "execution_count": 7,
   "metadata": {
    "ExecuteTime": {
     "end_time": "2024-04-18T12:51:53.006038Z",
     "start_time": "2024-04-18T12:51:52.992415Z"
    }
   },
   "outputs": [
    {
     "name": "stdout",
     "output_type": "stream",
     "text": [
      "Tipos de variáveis em paises_regiao:\n",
      "<class 'pandas.core.frame.DataFrame'>\n",
      "Int64Index: 249 entries, 0 to 249\n",
      "Data columns (total 4 columns):\n",
      " #   Column     Non-Null Count  Dtype  \n",
      "---  ------     --------------  -----  \n",
      " 0   Cod        245 non-null    float64\n",
      " 1   Nome Pais  245 non-null    object \n",
      " 2   Capital    245 non-null    object \n",
      " 3   Região     245 non-null    object \n",
      "dtypes: float64(1), object(3)\n",
      "memory usage: 9.7+ KB\n",
      "None\n",
      "\n",
      "Tipos de variáveis em paises_moeda:\n",
      "<class 'pandas.core.frame.DataFrame'>\n",
      "Int64Index: 249 entries, 0 to 249\n",
      "Data columns (total 2 columns):\n",
      " #   Column  Non-Null Count  Dtype  \n",
      "---  ------  --------------  -----  \n",
      " 0   Cod     246 non-null    float64\n",
      " 1   Moeda   246 non-null    object \n",
      "dtypes: float64(1), object(1)\n",
      "memory usage: 5.8+ KB\n",
      "None\n",
      "\n",
      "Tipos de variáveis em paises_area:\n",
      "<class 'pandas.core.frame.DataFrame'>\n",
      "Int64Index: 249 entries, 0 to 249\n",
      "Data columns (total 4 columns):\n",
      " #   Column       Non-Null Count  Dtype  \n",
      "---  ------       --------------  -----  \n",
      " 0   Cod          249 non-null    float64\n",
      " 1   Coordenadas  249 non-null    object \n",
      " 2   Área         249 non-null    float64\n",
      " 3   População    249 non-null    int64  \n",
      "dtypes: float64(2), int64(1), object(1)\n",
      "memory usage: 9.7+ KB\n",
      "None\n"
     ]
    }
   ],
   "source": [
    "#Próximo passo é analisar os tipos de variáveis em cada dataframe\n",
    "print(\"Tipos de variáveis em paises_regiao:\")\n",
    "print(paises_regiao_sem_nulos.info())\n",
    "\n",
    "print(\"\\nTipos de variáveis em paises_moeda:\")\n",
    "print(paises_moeda_sem_nulos.info())\n",
    "\n",
    "print(\"\\nTipos de variáveis em paises_area:\")\n",
    "print(paises_area_sem_nulos.info())"
   ]
  },
  {
   "cell_type": "markdown",
   "metadata": {},
   "source": [
    "VERIFICA SE SEM BASE COM DADOS NULOS, EM BRANCO OU SEMELHANTE A VAZIO"
   ]
  },
  {
   "cell_type": "code",
   "execution_count": 8,
   "metadata": {
    "ExecuteTime": {
     "end_time": "2024-04-18T12:51:53.793465Z",
     "start_time": "2024-04-18T12:51:53.788957Z"
    }
   },
   "outputs": [
    {
     "name": "stdout",
     "output_type": "stream",
     "text": [
      "Valores ausentes em paises_regiao:\n",
      "Cod          4\n",
      "Nome Pais    4\n",
      "Capital      4\n",
      "Região       4\n",
      "dtype: int64\n",
      "\n",
      "Valores ausentes em paises_moeda:\n",
      "Cod      3\n",
      "Moeda    3\n",
      "dtype: int64\n",
      "\n",
      "Valores ausentes em paises_area:\n",
      "Cod            0\n",
      "Coordenadas    0\n",
      "Área           0\n",
      "População      0\n",
      "dtype: int64\n"
     ]
    }
   ],
   "source": [
    "#Agora vamos analisar os valores ausentes\n",
    "print(\"Valores ausentes em paises_regiao:\")\n",
    "print(paises_regiao_sem_nulos.isna().sum())\n",
    "\n",
    "print(\"\\nValores ausentes em paises_moeda:\")\n",
    "print(paises_moeda_sem_nulos.isna().sum())\n",
    "\n",
    "print(\"\\nValores ausentes em paises_area:\")\n",
    "print(paises_area_sem_nulos.isna().sum())"
   ]
  },
  {
   "cell_type": "markdown",
   "metadata": {},
   "source": [
    "JOIN DAS 3 TABELAS"
   ]
  },
  {
   "cell_type": "code",
   "execution_count": 9,
   "metadata": {
    "ExecuteTime": {
     "end_time": "2024-04-18T12:51:54.445491Z",
     "start_time": "2024-04-18T12:51:54.425862Z"
    }
   },
   "outputs": [
    {
     "name": "stdout",
     "output_type": "stream",
     "text": [
      "       Cod           Nome Pais           Capital    Região  \\\n",
      "0    498.0             Moldova          Chișinău    Europe   \n",
      "1    840.0       United States  Washington, D.C.  Americas   \n",
      "2    175.0             Mayotte         Mamoudzou    Africa   \n",
      "3    520.0               Nauru             Yaren   Oceania   \n",
      "4    508.0          Mozambique            Maputo    Africa   \n",
      "..     ...                 ...               ...       ...   \n",
      "240  204.0               Benin        Porto-Novo    Africa   \n",
      "241  392.0               Japan             Tokyo      Asia   \n",
      "242  214.0  Dominican Republic     Santo Domingo  Americas   \n",
      "243  634.0               Qatar              Doha      Asia   \n",
      "244  266.0               Gabon        Libreville    Africa   \n",
      "\n",
      "                         Moeda                  Coordenadas       Área  \\\n",
      "0                 Moldovan leu                 [47.0, 29.0]    33846.0   \n",
      "1         United States dollar                [38.0, -97.0]  9372610.0   \n",
      "2                         Euro  [-12.83333333, 45.16666666]      374.0   \n",
      "3            Australian dollar  [-0.53333333, 166.91666666]       21.0   \n",
      "4           Mozambican metical               [-18.25, 35.0]   801590.0   \n",
      "..                         ...                          ...        ...   \n",
      "240     West African CFA franc                  [9.5, 2.25]   112622.0   \n",
      "241               Japanese yen                [36.0, 138.0]   377930.0   \n",
      "242             Dominican peso         [19.0, -70.66666666]    48671.0   \n",
      "243               Qatari riyal                [25.5, 51.25]    11586.0   \n",
      "244  Central African CFA franc                [-1.0, 11.75]   267668.0   \n",
      "\n",
      "     População  \n",
      "0      2617820  \n",
      "1    329484123  \n",
      "2       226915  \n",
      "3        10834  \n",
      "4     31255435  \n",
      "..         ...  \n",
      "240   12123198  \n",
      "241  125836021  \n",
      "242   10847904  \n",
      "243    2881060  \n",
      "244    2225728  \n",
      "\n",
      "[245 rows x 8 columns]\n"
     ]
    }
   ],
   "source": [
    "# primeiro join (regiao e moda) usando a chave \"cod\"\n",
    "final_df = pd.merge(paises_regiao_sem_nulos, paises_moeda_sem_nulos, on='Cod', how='inner')\n",
    "\n",
    "# segundo join (merged_df com area) usando a chave \"cod\"\n",
    "basefull = pd.merge(final_df, paises_area_sem_nulos, on='Cod', how='inner')\n",
    "\n",
    "# Exibir o DataFrame resultante\n",
    "print(basefull)"
   ]
  },
  {
   "cell_type": "code",
   "execution_count": 10,
   "metadata": {},
   "outputs": [
    {
     "name": "stdout",
     "output_type": "stream",
     "text": [
      "\n",
      "Valores ausentes em base_full:\n",
      "Cod            0\n",
      "Nome Pais      0\n",
      "Capital        0\n",
      "Região         0\n",
      "Moeda          0\n",
      "Coordenadas    0\n",
      "Área           0\n",
      "População      0\n",
      "dtype: int64\n"
     ]
    }
   ],
   "source": [
    "\n",
    "print(\"\\nValores ausentes em base_full:\")\n",
    "print(basefull.isna().sum())"
   ]
  },
  {
   "cell_type": "markdown",
   "metadata": {},
   "source": [
    "CRIACAO TABELA - BANCO DE DADOS"
   ]
  },
  {
   "cell_type": "code",
   "execution_count": 11,
   "metadata": {},
   "outputs": [],
   "source": [
    "conn = sqlite3.connect('basefull.db')\n",
    "\n",
    "paises_regiao_sem_nulos.to_sql('paisesregiao', conn, if_exists='replace', index=False)\n",
    "\n",
    "cursor = conn.cursor()"
   ]
  },
  {
   "cell_type": "code",
   "execution_count": 12,
   "metadata": {},
   "outputs": [
    {
     "name": "stdout",
     "output_type": "stream",
     "text": [
      "       Cod           Nome Pais           Capital    Região\n",
      "0    498.0             Moldova          Chișinău    Europe\n",
      "1    840.0       United States  Washington, D.C.  Americas\n",
      "2    175.0             Mayotte         Mamoudzou    Africa\n",
      "3    520.0               Nauru             Yaren   Oceania\n",
      "4    508.0          Mozambique            Maputo    Africa\n",
      "..     ...                 ...               ...       ...\n",
      "244  204.0               Benin        Porto-Novo    Africa\n",
      "245  392.0               Japan             Tokyo      Asia\n",
      "246  214.0  Dominican Republic     Santo Domingo  Americas\n",
      "247  634.0               Qatar              Doha      Asia\n",
      "248  266.0               Gabon        Libreville    Africa\n",
      "\n",
      "[249 rows x 4 columns]\n"
     ]
    }
   ],
   "source": [
    "conn = sqlite3.connect('basefull.db')\n",
    "query = \"SELECT * FROM paisesregiao\"\n",
    "df_regiao = pd.read_sql(query, conn)\n",
    "print(df_regiao)\n",
    "\n",
    "conn.close()"
   ]
  },
  {
   "cell_type": "code",
   "execution_count": 13,
   "metadata": {},
   "outputs": [],
   "source": [
    "conn = sqlite3.connect('basefull.db')\n",
    "\n",
    "paises_moeda_sem_nulos.to_sql('paisesmoeda', conn, if_exists='replace', index=False)\n",
    "\n",
    "cursor = conn.cursor()"
   ]
  },
  {
   "cell_type": "code",
   "execution_count": 14,
   "metadata": {},
   "outputs": [
    {
     "name": "stdout",
     "output_type": "stream",
     "text": [
      "       Cod                      Moeda\n",
      "0    498.0               Moldovan leu\n",
      "1    840.0       United States dollar\n",
      "2    175.0                       Euro\n",
      "3    520.0          Australian dollar\n",
      "4    508.0         Mozambican metical\n",
      "..     ...                        ...\n",
      "244  204.0     West African CFA franc\n",
      "245  392.0               Japanese yen\n",
      "246  214.0             Dominican peso\n",
      "247  634.0               Qatari riyal\n",
      "248  266.0  Central African CFA franc\n",
      "\n",
      "[249 rows x 2 columns]\n"
     ]
    }
   ],
   "source": [
    "conn = sqlite3.connect('basefull.db')\n",
    "query = \"SELECT * FROM paisesmoeda\"\n",
    "df_moeda = pd.read_sql(query, conn)\n",
    "print(df_moeda)\n",
    "\n",
    "conn.close()"
   ]
  },
  {
   "cell_type": "code",
   "execution_count": 15,
   "metadata": {},
   "outputs": [],
   "source": [
    "conn = sqlite3.connect('basefull.db')\n",
    "\n",
    "paises_area_sem_nulos.to_sql('paisesarea', conn, if_exists='replace', index=False)\n",
    "\n",
    "cursor = conn.cursor()"
   ]
  },
  {
   "cell_type": "code",
   "execution_count": 16,
   "metadata": {},
   "outputs": [
    {
     "name": "stdout",
     "output_type": "stream",
     "text": [
      "       Cod                  Coordenadas       Área  População\n",
      "0    498.0                 [47.0, 29.0]    33846.0    2617820\n",
      "1    840.0                [38.0, -97.0]  9372610.0  329484123\n",
      "2    175.0  [-12.83333333, 45.16666666]      374.0     226915\n",
      "3    520.0  [-0.53333333, 166.91666666]       21.0      10834\n",
      "4    508.0               [-18.25, 35.0]   801590.0   31255435\n",
      "..     ...                          ...        ...        ...\n",
      "244  204.0                  [9.5, 2.25]   112622.0   12123198\n",
      "245  392.0                [36.0, 138.0]   377930.0  125836021\n",
      "246  214.0         [19.0, -70.66666666]    48671.0   10847904\n",
      "247  634.0                [25.5, 51.25]    11586.0    2881060\n",
      "248  266.0                [-1.0, 11.75]   267668.0    2225728\n",
      "\n",
      "[249 rows x 4 columns]\n"
     ]
    }
   ],
   "source": [
    "conn = sqlite3.connect('basefull.db')\n",
    "query = \"SELECT * FROM paisesarea\"\n",
    "df_area = pd.read_sql(query, conn)\n",
    "print(df_area)\n",
    "\n",
    "conn.close()"
   ]
  },
  {
   "cell_type": "code",
   "execution_count": 17,
   "metadata": {},
   "outputs": [],
   "source": [
    "conn = sqlite3.connect('basefull.db')\n",
    "\n",
    "basefull.to_sql('baserestcountries', conn, if_exists='replace', index=False)\n",
    "\n",
    "cursor = conn.cursor()"
   ]
  },
  {
   "cell_type": "code",
   "execution_count": 18,
   "metadata": {
    "ExecuteTime": {
     "end_time": "2024-04-18T12:51:55.664372Z",
     "start_time": "2024-04-18T12:51:55.659739Z"
    }
   },
   "outputs": [
    {
     "name": "stdout",
     "output_type": "stream",
     "text": [
      "       Cod           Nome Pais           Capital    Região  \\\n",
      "0    498.0             Moldova          Chișinău    Europe   \n",
      "1    840.0       United States  Washington, D.C.  Americas   \n",
      "2    175.0             Mayotte         Mamoudzou    Africa   \n",
      "3    520.0               Nauru             Yaren   Oceania   \n",
      "4    508.0          Mozambique            Maputo    Africa   \n",
      "..     ...                 ...               ...       ...   \n",
      "240  204.0               Benin        Porto-Novo    Africa   \n",
      "241  392.0               Japan             Tokyo      Asia   \n",
      "242  214.0  Dominican Republic     Santo Domingo  Americas   \n",
      "243  634.0               Qatar              Doha      Asia   \n",
      "244  266.0               Gabon        Libreville    Africa   \n",
      "\n",
      "                         Moeda                  Coordenadas       Área  \\\n",
      "0                 Moldovan leu                 [47.0, 29.0]    33846.0   \n",
      "1         United States dollar                [38.0, -97.0]  9372610.0   \n",
      "2                         Euro  [-12.83333333, 45.16666666]      374.0   \n",
      "3            Australian dollar  [-0.53333333, 166.91666666]       21.0   \n",
      "4           Mozambican metical               [-18.25, 35.0]   801590.0   \n",
      "..                         ...                          ...        ...   \n",
      "240     West African CFA franc                  [9.5, 2.25]   112622.0   \n",
      "241               Japanese yen                [36.0, 138.0]   377930.0   \n",
      "242             Dominican peso         [19.0, -70.66666666]    48671.0   \n",
      "243               Qatari riyal                [25.5, 51.25]    11586.0   \n",
      "244  Central African CFA franc                [-1.0, 11.75]   267668.0   \n",
      "\n",
      "     População  \n",
      "0      2617820  \n",
      "1    329484123  \n",
      "2       226915  \n",
      "3        10834  \n",
      "4     31255435  \n",
      "..         ...  \n",
      "240   12123198  \n",
      "241  125836021  \n",
      "242   10847904  \n",
      "243    2881060  \n",
      "244    2225728  \n",
      "\n",
      "[245 rows x 8 columns]\n"
     ]
    }
   ],
   "source": [
    "conn = sqlite3.connect('basefull.db')\n",
    "query = \"SELECT * FROM baserestcountries\"\n",
    "df_full = pd.read_sql(query, conn)\n",
    "print(df_full)\n",
    "\n",
    "conn.close()"
   ]
  },
  {
   "cell_type": "markdown",
   "metadata": {},
   "source": [
    "VISUALIZACAO FINAL DA BASE FULL DAS 3 TABELAS"
   ]
  },
  {
   "cell_type": "code",
   "execution_count": 19,
   "metadata": {},
   "outputs": [
    {
     "data": {
      "text/html": [
       "<div>\n",
       "<style scoped>\n",
       "    .dataframe tbody tr th:only-of-type {\n",
       "        vertical-align: middle;\n",
       "    }\n",
       "\n",
       "    .dataframe tbody tr th {\n",
       "        vertical-align: top;\n",
       "    }\n",
       "\n",
       "    .dataframe thead th {\n",
       "        text-align: right;\n",
       "    }\n",
       "</style>\n",
       "<table border=\"1\" class=\"dataframe\">\n",
       "  <thead>\n",
       "    <tr style=\"text-align: right;\">\n",
       "      <th></th>\n",
       "      <th>Cod</th>\n",
       "      <th>Nome Pais</th>\n",
       "      <th>Capital</th>\n",
       "      <th>Região</th>\n",
       "      <th>Moeda</th>\n",
       "      <th>Coordenadas</th>\n",
       "      <th>Área</th>\n",
       "      <th>População</th>\n",
       "    </tr>\n",
       "  </thead>\n",
       "  <tbody>\n",
       "    <tr>\n",
       "      <th>0</th>\n",
       "      <td>498.0</td>\n",
       "      <td>Moldova</td>\n",
       "      <td>Chișinău</td>\n",
       "      <td>Europe</td>\n",
       "      <td>Moldovan leu</td>\n",
       "      <td>[47.0, 29.0]</td>\n",
       "      <td>33846.0</td>\n",
       "      <td>2617820</td>\n",
       "    </tr>\n",
       "    <tr>\n",
       "      <th>1</th>\n",
       "      <td>840.0</td>\n",
       "      <td>United States</td>\n",
       "      <td>Washington, D.C.</td>\n",
       "      <td>Americas</td>\n",
       "      <td>United States dollar</td>\n",
       "      <td>[38.0, -97.0]</td>\n",
       "      <td>9372610.0</td>\n",
       "      <td>329484123</td>\n",
       "    </tr>\n",
       "    <tr>\n",
       "      <th>2</th>\n",
       "      <td>175.0</td>\n",
       "      <td>Mayotte</td>\n",
       "      <td>Mamoudzou</td>\n",
       "      <td>Africa</td>\n",
       "      <td>Euro</td>\n",
       "      <td>[-12.83333333, 45.16666666]</td>\n",
       "      <td>374.0</td>\n",
       "      <td>226915</td>\n",
       "    </tr>\n",
       "    <tr>\n",
       "      <th>3</th>\n",
       "      <td>520.0</td>\n",
       "      <td>Nauru</td>\n",
       "      <td>Yaren</td>\n",
       "      <td>Oceania</td>\n",
       "      <td>Australian dollar</td>\n",
       "      <td>[-0.53333333, 166.91666666]</td>\n",
       "      <td>21.0</td>\n",
       "      <td>10834</td>\n",
       "    </tr>\n",
       "    <tr>\n",
       "      <th>4</th>\n",
       "      <td>508.0</td>\n",
       "      <td>Mozambique</td>\n",
       "      <td>Maputo</td>\n",
       "      <td>Africa</td>\n",
       "      <td>Mozambican metical</td>\n",
       "      <td>[-18.25, 35.0]</td>\n",
       "      <td>801590.0</td>\n",
       "      <td>31255435</td>\n",
       "    </tr>\n",
       "    <tr>\n",
       "      <th>5</th>\n",
       "      <td>76.0</td>\n",
       "      <td>Brazil</td>\n",
       "      <td>Brasília</td>\n",
       "      <td>Americas</td>\n",
       "      <td>Brazilian real</td>\n",
       "      <td>[-10.0, -55.0]</td>\n",
       "      <td>8515767.0</td>\n",
       "      <td>212559409</td>\n",
       "    </tr>\n",
       "    <tr>\n",
       "      <th>6</th>\n",
       "      <td>132.0</td>\n",
       "      <td>Cape Verde</td>\n",
       "      <td>Praia</td>\n",
       "      <td>Africa</td>\n",
       "      <td>Cape Verdean escudo</td>\n",
       "      <td>[16.5388, -23.0418]</td>\n",
       "      <td>4033.0</td>\n",
       "      <td>555988</td>\n",
       "    </tr>\n",
       "    <tr>\n",
       "      <th>7</th>\n",
       "      <td>226.0</td>\n",
       "      <td>Equatorial Guinea</td>\n",
       "      <td>Malabo</td>\n",
       "      <td>Africa</td>\n",
       "      <td>Central African CFA franc</td>\n",
       "      <td>[2.0, 10.0]</td>\n",
       "      <td>28051.0</td>\n",
       "      <td>1402985</td>\n",
       "    </tr>\n",
       "    <tr>\n",
       "      <th>8</th>\n",
       "      <td>8.0</td>\n",
       "      <td>Albania</td>\n",
       "      <td>Tirana</td>\n",
       "      <td>Europe</td>\n",
       "      <td>Albanian lek</td>\n",
       "      <td>[41.0, 20.0]</td>\n",
       "      <td>28748.0</td>\n",
       "      <td>2837743</td>\n",
       "    </tr>\n",
       "    <tr>\n",
       "      <th>9</th>\n",
       "      <td>850.0</td>\n",
       "      <td>United States Virgin Islands</td>\n",
       "      <td>Charlotte Amalie</td>\n",
       "      <td>Americas</td>\n",
       "      <td>United States dollar</td>\n",
       "      <td>[18.35, -64.933333]</td>\n",
       "      <td>347.0</td>\n",
       "      <td>106290</td>\n",
       "    </tr>\n",
       "  </tbody>\n",
       "</table>\n",
       "</div>"
      ],
      "text/plain": [
       "     Cod                     Nome Pais           Capital    Região  \\\n",
       "0  498.0                       Moldova          Chișinău    Europe   \n",
       "1  840.0                 United States  Washington, D.C.  Americas   \n",
       "2  175.0                       Mayotte         Mamoudzou    Africa   \n",
       "3  520.0                         Nauru             Yaren   Oceania   \n",
       "4  508.0                    Mozambique            Maputo    Africa   \n",
       "5   76.0                        Brazil          Brasília  Americas   \n",
       "6  132.0                    Cape Verde             Praia    Africa   \n",
       "7  226.0             Equatorial Guinea            Malabo    Africa   \n",
       "8    8.0                       Albania            Tirana    Europe   \n",
       "9  850.0  United States Virgin Islands  Charlotte Amalie  Americas   \n",
       "\n",
       "                       Moeda                  Coordenadas       Área  \\\n",
       "0               Moldovan leu                 [47.0, 29.0]    33846.0   \n",
       "1       United States dollar                [38.0, -97.0]  9372610.0   \n",
       "2                       Euro  [-12.83333333, 45.16666666]      374.0   \n",
       "3          Australian dollar  [-0.53333333, 166.91666666]       21.0   \n",
       "4         Mozambican metical               [-18.25, 35.0]   801590.0   \n",
       "5             Brazilian real               [-10.0, -55.0]  8515767.0   \n",
       "6        Cape Verdean escudo          [16.5388, -23.0418]     4033.0   \n",
       "7  Central African CFA franc                  [2.0, 10.0]    28051.0   \n",
       "8               Albanian lek                 [41.0, 20.0]    28748.0   \n",
       "9       United States dollar          [18.35, -64.933333]      347.0   \n",
       "\n",
       "   População  \n",
       "0    2617820  \n",
       "1  329484123  \n",
       "2     226915  \n",
       "3      10834  \n",
       "4   31255435  \n",
       "5  212559409  \n",
       "6     555988  \n",
       "7    1402985  \n",
       "8    2837743  \n",
       "9     106290  "
      ]
     },
     "execution_count": 19,
     "metadata": {},
     "output_type": "execute_result"
    }
   ],
   "source": [
    "df_full.head(10)"
   ]
  },
  {
   "cell_type": "code",
   "execution_count": 20,
   "metadata": {},
   "outputs": [
    {
     "data": {
      "text/plain": [
       "(250, 4)"
      ]
     },
     "execution_count": 20,
     "metadata": {},
     "output_type": "execute_result"
    }
   ],
   "source": [
    "df.shape"
   ]
  },
  {
   "cell_type": "code",
   "execution_count": 21,
   "metadata": {},
   "outputs": [
    {
     "name": "stdout",
     "output_type": "stream",
     "text": [
      "                name\n",
      "0       paisesregiao\n",
      "1        paisesmoeda\n",
      "2         paisesarea\n",
      "3  baserestcountries\n"
     ]
    }
   ],
   "source": [
    "conn = sqlite3.connect('basefull.db')\n",
    "\n",
    "# Executar uma consulta que retorna as informações do esquema do banco de dados\n",
    "query = \"SELECT name FROM sqlite_master WHERE type='table'\"\n",
    "schema = pd.read_sql_query(query, conn)\n",
    "\n",
    "# Imprimir o DataFrame com os nomes das tabelas\n",
    "print(schema)\n",
    "\n",
    "conn.close()"
   ]
  },
  {
   "cell_type": "code",
   "execution_count": null,
   "metadata": {},
   "outputs": [],
   "source": []
  }
 ],
 "metadata": {
  "kernelspec": {
   "display_name": "base",
   "language": "python",
   "name": "python3"
  },
  "language_info": {
   "codemirror_mode": {
    "name": "ipython",
    "version": 3
   },
   "file_extension": ".py",
   "mimetype": "text/x-python",
   "name": "python",
   "nbconvert_exporter": "python",
   "pygments_lexer": "ipython3",
   "version": "3.8.16"
  }
 },
 "nbformat": 4,
 "nbformat_minor": 2
}
