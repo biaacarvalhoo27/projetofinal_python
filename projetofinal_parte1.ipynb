{
 "cells": [
  {
   "cell_type": "markdown",
   "metadata": {},
   "source": [
    "IMPORT LIBS"
   ]
  },
  {
   "cell_type": "code",
   "execution_count": 1,
   "metadata": {},
   "outputs": [],
   "source": [
    "import pandas as pd\n",
    "import requests\n",
    "import csv\n",
    "from datetime import datetime\n",
    "from plyer import notification\n",
    "import os"
   ]
  },
  {
   "cell_type": "markdown",
   "metadata": {},
   "source": [
    "ARQUIVO REQUIREMENTS"
   ]
  },
  {
   "cell_type": "code",
   "execution_count": 2,
   "metadata": {},
   "outputs": [],
   "source": [
    "! pip freeze > requirements.txt"
   ]
  },
  {
   "cell_type": "markdown",
   "metadata": {},
   "source": [
    "VISUALIZACAO API RESTCOUNTRIES"
   ]
  },
  {
   "cell_type": "code",
   "execution_count": 3,
   "metadata": {},
   "outputs": [],
   "source": [
    "#Visualização por codigo, regiao, nome e capital\n",
    "url = \"https://restcountries.com/v3.1/all?fields=ccn3,region,name,capital\"\n",
    "response = requests.get(url)"
   ]
  },
  {
   "cell_type": "code",
   "execution_count": 4,
   "metadata": {},
   "outputs": [],
   "source": [
    "#Retorno da API com ou sem sucesso\n",
    "if response.status_code == 200:\n",
    "    data_json = response.json()\n",
    "else:\n",
    "    print (\"Processamento falhou!\")"
   ]
  },
  {
   "cell_type": "code",
   "execution_count": 5,
   "metadata": {},
   "outputs": [
    {
     "data": {
      "text/html": [
       "<div>\n",
       "<style scoped>\n",
       "    .dataframe tbody tr th:only-of-type {\n",
       "        vertical-align: middle;\n",
       "    }\n",
       "\n",
       "    .dataframe tbody tr th {\n",
       "        vertical-align: top;\n",
       "    }\n",
       "\n",
       "    .dataframe thead th {\n",
       "        text-align: right;\n",
       "    }\n",
       "</style>\n",
       "<table border=\"1\" class=\"dataframe\">\n",
       "  <thead>\n",
       "    <tr style=\"text-align: right;\">\n",
       "      <th></th>\n",
       "      <th>name</th>\n",
       "      <th>ccn3</th>\n",
       "      <th>capital</th>\n",
       "      <th>region</th>\n",
       "    </tr>\n",
       "  </thead>\n",
       "  <tbody>\n",
       "    <tr>\n",
       "      <th>0</th>\n",
       "      <td>{'common': 'Moldova', 'official': 'Republic of...</td>\n",
       "      <td>498</td>\n",
       "      <td>[Chișinău]</td>\n",
       "      <td>Europe</td>\n",
       "    </tr>\n",
       "    <tr>\n",
       "      <th>1</th>\n",
       "      <td>{'common': 'United States', 'official': 'Unite...</td>\n",
       "      <td>840</td>\n",
       "      <td>[Washington, D.C.]</td>\n",
       "      <td>Americas</td>\n",
       "    </tr>\n",
       "    <tr>\n",
       "      <th>2</th>\n",
       "      <td>{'common': 'Mayotte', 'official': 'Department ...</td>\n",
       "      <td>175</td>\n",
       "      <td>[Mamoudzou]</td>\n",
       "      <td>Africa</td>\n",
       "    </tr>\n",
       "    <tr>\n",
       "      <th>3</th>\n",
       "      <td>{'common': 'Nauru', 'official': 'Republic of N...</td>\n",
       "      <td>520</td>\n",
       "      <td>[Yaren]</td>\n",
       "      <td>Oceania</td>\n",
       "    </tr>\n",
       "    <tr>\n",
       "      <th>4</th>\n",
       "      <td>{'common': 'Mozambique', 'official': 'Republic...</td>\n",
       "      <td>508</td>\n",
       "      <td>[Maputo]</td>\n",
       "      <td>Africa</td>\n",
       "    </tr>\n",
       "  </tbody>\n",
       "</table>\n",
       "</div>"
      ],
      "text/plain": [
       "                                                name ccn3             capital  \\\n",
       "0  {'common': 'Moldova', 'official': 'Republic of...  498          [Chișinău]   \n",
       "1  {'common': 'United States', 'official': 'Unite...  840  [Washington, D.C.]   \n",
       "2  {'common': 'Mayotte', 'official': 'Department ...  175         [Mamoudzou]   \n",
       "3  {'common': 'Nauru', 'official': 'Republic of N...  520             [Yaren]   \n",
       "4  {'common': 'Mozambique', 'official': 'Republic...  508            [Maputo]   \n",
       "\n",
       "     region  \n",
       "0    Europe  \n",
       "1  Americas  \n",
       "2    Africa  \n",
       "3   Oceania  \n",
       "4    Africa  "
      ]
     },
     "execution_count": 5,
     "metadata": {},
     "output_type": "execute_result"
    }
   ],
   "source": [
    "#Visualização do arquivo em JSON\n",
    "paises_regiao = pd.DataFrame(data_json)\n",
    "paises_regiao.head(5)"
   ]
  },
  {
   "cell_type": "code",
   "execution_count": 6,
   "metadata": {},
   "outputs": [],
   "source": [
    "df = pd.DataFrame(paises_regiao)\n",
    "df.to_csv('paises_regiao.csv', index=False)"
   ]
  },
  {
   "cell_type": "code",
   "execution_count": 7,
   "metadata": {},
   "outputs": [],
   "source": [
    "#Visualização por codigo e moeda\n",
    "url = \"https://restcountries.com/v3.1/all?fields=ccn3,currencies\"\n",
    "response = requests.get(url)"
   ]
  },
  {
   "cell_type": "code",
   "execution_count": 8,
   "metadata": {},
   "outputs": [],
   "source": [
    "#Retorno da API com ou sem sucesso\n",
    "if response.status_code == 200:\n",
    "    data_json = response.json()\n",
    "else:\n",
    "    print (\"Processamento falhou!\")"
   ]
  },
  {
   "cell_type": "code",
   "execution_count": 9,
   "metadata": {},
   "outputs": [
    {
     "data": {
      "text/html": [
       "<div>\n",
       "<style scoped>\n",
       "    .dataframe tbody tr th:only-of-type {\n",
       "        vertical-align: middle;\n",
       "    }\n",
       "\n",
       "    .dataframe tbody tr th {\n",
       "        vertical-align: top;\n",
       "    }\n",
       "\n",
       "    .dataframe thead th {\n",
       "        text-align: right;\n",
       "    }\n",
       "</style>\n",
       "<table border=\"1\" class=\"dataframe\">\n",
       "  <thead>\n",
       "    <tr style=\"text-align: right;\">\n",
       "      <th></th>\n",
       "      <th>ccn3</th>\n",
       "      <th>currencies</th>\n",
       "    </tr>\n",
       "  </thead>\n",
       "  <tbody>\n",
       "    <tr>\n",
       "      <th>0</th>\n",
       "      <td>498</td>\n",
       "      <td>{'MDL': {'name': 'Moldovan leu', 'symbol': 'L'}}</td>\n",
       "    </tr>\n",
       "    <tr>\n",
       "      <th>1</th>\n",
       "      <td>840</td>\n",
       "      <td>{'USD': {'name': 'United States dollar', 'symb...</td>\n",
       "    </tr>\n",
       "    <tr>\n",
       "      <th>2</th>\n",
       "      <td>175</td>\n",
       "      <td>{'EUR': {'name': 'Euro', 'symbol': '€'}}</td>\n",
       "    </tr>\n",
       "    <tr>\n",
       "      <th>3</th>\n",
       "      <td>520</td>\n",
       "      <td>{'AUD': {'name': 'Australian dollar', 'symbol'...</td>\n",
       "    </tr>\n",
       "    <tr>\n",
       "      <th>4</th>\n",
       "      <td>508</td>\n",
       "      <td>{'MZN': {'name': 'Mozambican metical', 'symbol...</td>\n",
       "    </tr>\n",
       "  </tbody>\n",
       "</table>\n",
       "</div>"
      ],
      "text/plain": [
       "  ccn3                                         currencies\n",
       "0  498   {'MDL': {'name': 'Moldovan leu', 'symbol': 'L'}}\n",
       "1  840  {'USD': {'name': 'United States dollar', 'symb...\n",
       "2  175           {'EUR': {'name': 'Euro', 'symbol': '€'}}\n",
       "3  520  {'AUD': {'name': 'Australian dollar', 'symbol'...\n",
       "4  508  {'MZN': {'name': 'Mozambican metical', 'symbol..."
      ]
     },
     "execution_count": 9,
     "metadata": {},
     "output_type": "execute_result"
    }
   ],
   "source": [
    "#Visualização do arquivo em JSON\n",
    "paises_moeda = pd.DataFrame(data_json)\n",
    "paises_moeda.head(5)"
   ]
  },
  {
   "cell_type": "code",
   "execution_count": 10,
   "metadata": {},
   "outputs": [],
   "source": [
    "df = pd.DataFrame(paises_moeda)\n",
    "df.to_csv('paises_moeda.csv', index=False)"
   ]
  },
  {
   "cell_type": "code",
   "execution_count": 11,
   "metadata": {},
   "outputs": [],
   "source": [
    "#Visualização por codigo, area, populacao, latitude e longitude\n",
    "url = \"https://restcountries.com/v3.1/all?fields=ccn3,population,area,latlng\"\n",
    "response = requests.get(url)"
   ]
  },
  {
   "cell_type": "code",
   "execution_count": 12,
   "metadata": {},
   "outputs": [],
   "source": [
    "#Retorno da API com ou sem sucesso\n",
    "if response.status_code == 200:\n",
    "    data_json = response.json()\n",
    "else:\n",
    "    print (\"Processamento falhou!\")"
   ]
  },
  {
   "cell_type": "code",
   "execution_count": 13,
   "metadata": {},
   "outputs": [
    {
     "data": {
      "text/html": [
       "<div>\n",
       "<style scoped>\n",
       "    .dataframe tbody tr th:only-of-type {\n",
       "        vertical-align: middle;\n",
       "    }\n",
       "\n",
       "    .dataframe tbody tr th {\n",
       "        vertical-align: top;\n",
       "    }\n",
       "\n",
       "    .dataframe thead th {\n",
       "        text-align: right;\n",
       "    }\n",
       "</style>\n",
       "<table border=\"1\" class=\"dataframe\">\n",
       "  <thead>\n",
       "    <tr style=\"text-align: right;\">\n",
       "      <th></th>\n",
       "      <th>ccn3</th>\n",
       "      <th>latlng</th>\n",
       "      <th>area</th>\n",
       "      <th>population</th>\n",
       "    </tr>\n",
       "  </thead>\n",
       "  <tbody>\n",
       "    <tr>\n",
       "      <th>0</th>\n",
       "      <td>498</td>\n",
       "      <td>[47.0, 29.0]</td>\n",
       "      <td>33846.0</td>\n",
       "      <td>2617820</td>\n",
       "    </tr>\n",
       "    <tr>\n",
       "      <th>1</th>\n",
       "      <td>840</td>\n",
       "      <td>[38.0, -97.0]</td>\n",
       "      <td>9372610.0</td>\n",
       "      <td>329484123</td>\n",
       "    </tr>\n",
       "    <tr>\n",
       "      <th>2</th>\n",
       "      <td>175</td>\n",
       "      <td>[-12.83333333, 45.16666666]</td>\n",
       "      <td>374.0</td>\n",
       "      <td>226915</td>\n",
       "    </tr>\n",
       "    <tr>\n",
       "      <th>3</th>\n",
       "      <td>520</td>\n",
       "      <td>[-0.53333333, 166.91666666]</td>\n",
       "      <td>21.0</td>\n",
       "      <td>10834</td>\n",
       "    </tr>\n",
       "    <tr>\n",
       "      <th>4</th>\n",
       "      <td>508</td>\n",
       "      <td>[-18.25, 35.0]</td>\n",
       "      <td>801590.0</td>\n",
       "      <td>31255435</td>\n",
       "    </tr>\n",
       "  </tbody>\n",
       "</table>\n",
       "</div>"
      ],
      "text/plain": [
       "  ccn3                       latlng       area  population\n",
       "0  498                 [47.0, 29.0]    33846.0     2617820\n",
       "1  840                [38.0, -97.0]  9372610.0   329484123\n",
       "2  175  [-12.83333333, 45.16666666]      374.0      226915\n",
       "3  520  [-0.53333333, 166.91666666]       21.0       10834\n",
       "4  508               [-18.25, 35.0]   801590.0    31255435"
      ]
     },
     "execution_count": 13,
     "metadata": {},
     "output_type": "execute_result"
    }
   ],
   "source": [
    "#Visualização do arquivo em JSON\n",
    "paises_area = pd.DataFrame(data_json)\n",
    "paises_area.head(5)"
   ]
  },
  {
   "cell_type": "code",
   "execution_count": 14,
   "metadata": {},
   "outputs": [],
   "source": [
    "df = pd.DataFrame(paises_area)\n",
    "df.to_csv('paises_area.csv', index=False)\n"
   ]
  },
  {
   "cell_type": "markdown",
   "metadata": {},
   "source": [
    "NOTIFICACAO DE ALERTA"
   ]
  },
  {
   "cell_type": "code",
   "execution_count": 15,
   "metadata": {},
   "outputs": [],
   "source": [
    "#notificação de alerta\n",
    "\n",
    "def alerta():\n",
    "    #incluir o caminho da pasta destino depois de executar os comando acima\n",
    "    pasta = r'C:\\Users\\bianc\\Desktop\\Cursos\\12.Python_CODERHOUSE\\venvs\\projetofinal' \n",
    "    arquivos_csv = ['paises_area.csv', 'paises_moeda.csv', 'paises_regiao.csv'] \n",
    "\n",
    "    arquivos = []\n",
    "    for arquivo in arquivos_csv:\n",
    "        caminho = os.path.join(pasta, arquivo)\n",
    "        if os.path.exists(caminho):\n",
    "            arquivos.append(arquivo)\n",
    "\n",
    "    if len(arquivos) == 3:\n",
    "        mensagem =\"Arquivos 'csv' foram salvos com sucesso na pasta destino!\"\n",
    "        notification.notify(\n",
    "            title='NOTIFICAÇÃO',\n",
    "            message=mensagem,\n",
    "            app_name='alerta'\n",
    "        )\n",
    "    else:\n",
    "        mensagem = \"Falha no carregamento dos arquivos 'csv'.\"\n",
    "        notification.notify(\n",
    "            title='NOTIFICAÇÃO',\n",
    "            message=mensagem,\n",
    "            app_name='alerta'\n",
    "        )\n",
    "\n",
    "if __name__ == \"__main__\":\n",
    "    alerta()\n",
    "\n"
   ]
  },
  {
   "cell_type": "code",
   "execution_count": null,
   "metadata": {},
   "outputs": [],
   "source": []
  }
 ],
 "metadata": {
  "kernelspec": {
   "display_name": "base",
   "language": "python",
   "name": "python3"
  },
  "language_info": {
   "codemirror_mode": {
    "name": "ipython",
    "version": 3
   },
   "file_extension": ".py",
   "mimetype": "text/x-python",
   "name": "python",
   "nbconvert_exporter": "python",
   "pygments_lexer": "ipython3",
   "version": "3.8.16"
  }
 },
 "nbformat": 4,
 "nbformat_minor": 2
}
