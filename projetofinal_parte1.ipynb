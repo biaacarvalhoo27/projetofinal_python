{
 "cells": [
  {
   "cell_type": "code",
   "execution_count": 125,
   "metadata": {},
   "outputs": [],
   "source": [
    "import pandas as pd\n",
    "import requests\n",
    "import csv\n",
    "from datetime import datetime\n",
    "from plyer import notification\n",
    "import os"
   ]
  },
  {
   "cell_type": "code",
   "execution_count": 126,
   "metadata": {},
   "outputs": [],
   "source": [
    "#! pip freeze -r requirements.txt"
   ]
  },
  {
   "cell_type": "code",
   "execution_count": 127,
   "metadata": {},
   "outputs": [],
   "source": [
    "#Visualização por codigo, regiao, nome e capital\n",
    "url = \"https://restcountries.com/v3.1/all?fields=ccn3,region,name,capital\"\n",
    "response = requests.get(url)"
   ]
  },
  {
   "cell_type": "code",
   "execution_count": 128,
   "metadata": {},
   "outputs": [],
   "source": [
    "#Retorno da API com ou sem sucesso\n",
    "if response.status_code == 200:\n",
    "    data_json = response.json()\n",
    "else:\n",
    "    print (\"Processamento falhou!\")"
   ]
  },
  {
   "cell_type": "code",
   "execution_count": 129,
   "metadata": {},
   "outputs": [
    {
     "data": {
      "text/html": [
       "<div>\n",
       "<style scoped>\n",
       "    .dataframe tbody tr th:only-of-type {\n",
       "        vertical-align: middle;\n",
       "    }\n",
       "\n",
       "    .dataframe tbody tr th {\n",
       "        vertical-align: top;\n",
       "    }\n",
       "\n",
       "    .dataframe thead th {\n",
       "        text-align: right;\n",
       "    }\n",
       "</style>\n",
       "<table border=\"1\" class=\"dataframe\">\n",
       "  <thead>\n",
       "    <tr style=\"text-align: right;\">\n",
       "      <th></th>\n",
       "      <th>name</th>\n",
       "      <th>ccn3</th>\n",
       "      <th>capital</th>\n",
       "      <th>region</th>\n",
       "    </tr>\n",
       "  </thead>\n",
       "  <tbody>\n",
       "    <tr>\n",
       "      <th>0</th>\n",
       "      <td>{'common': 'Cyprus', 'official': 'Republic of ...</td>\n",
       "      <td>196</td>\n",
       "      <td>[Nicosia]</td>\n",
       "      <td>Europe</td>\n",
       "    </tr>\n",
       "    <tr>\n",
       "      <th>1</th>\n",
       "      <td>{'common': 'Eritrea', 'official': 'State of Er...</td>\n",
       "      <td>232</td>\n",
       "      <td>[Asmara]</td>\n",
       "      <td>Africa</td>\n",
       "    </tr>\n",
       "    <tr>\n",
       "      <th>2</th>\n",
       "      <td>{'common': 'Liberia', 'official': 'Republic of...</td>\n",
       "      <td>430</td>\n",
       "      <td>[Monrovia]</td>\n",
       "      <td>Africa</td>\n",
       "    </tr>\n",
       "    <tr>\n",
       "      <th>3</th>\n",
       "      <td>{'common': 'Bermuda', 'official': 'Bermuda', '...</td>\n",
       "      <td>060</td>\n",
       "      <td>[Hamilton]</td>\n",
       "      <td>Americas</td>\n",
       "    </tr>\n",
       "    <tr>\n",
       "      <th>4</th>\n",
       "      <td>{'common': 'Vatican City', 'official': 'Vatica...</td>\n",
       "      <td>336</td>\n",
       "      <td>[Vatican City]</td>\n",
       "      <td>Europe</td>\n",
       "    </tr>\n",
       "  </tbody>\n",
       "</table>\n",
       "</div>"
      ],
      "text/plain": [
       "                                                name ccn3         capital  \\\n",
       "0  {'common': 'Cyprus', 'official': 'Republic of ...  196       [Nicosia]   \n",
       "1  {'common': 'Eritrea', 'official': 'State of Er...  232        [Asmara]   \n",
       "2  {'common': 'Liberia', 'official': 'Republic of...  430      [Monrovia]   \n",
       "3  {'common': 'Bermuda', 'official': 'Bermuda', '...  060      [Hamilton]   \n",
       "4  {'common': 'Vatican City', 'official': 'Vatica...  336  [Vatican City]   \n",
       "\n",
       "     region  \n",
       "0    Europe  \n",
       "1    Africa  \n",
       "2    Africa  \n",
       "3  Americas  \n",
       "4    Europe  "
      ]
     },
     "execution_count": 129,
     "metadata": {},
     "output_type": "execute_result"
    }
   ],
   "source": [
    "#Visualização do arquivo em JSON\n",
    "paises_regiao = pd.DataFrame(data_json)\n",
    "paises_regiao.head(5)"
   ]
  },
  {
   "cell_type": "code",
   "execution_count": 130,
   "metadata": {},
   "outputs": [],
   "source": [
    "df = pd.DataFrame(paises_regiao)\n",
    "df.to_csv('paises_regiao.csv', index=False)"
   ]
  },
  {
   "cell_type": "code",
   "execution_count": 131,
   "metadata": {},
   "outputs": [],
   "source": [
    "#Visualização por codigo e moeda\n",
    "url = \"https://restcountries.com/v3.1/all?fields=ccn3,currencies\"\n",
    "response = requests.get(url)"
   ]
  },
  {
   "cell_type": "code",
   "execution_count": 132,
   "metadata": {},
   "outputs": [],
   "source": [
    "#Retorno da API com ou sem sucesso\n",
    "if response.status_code == 200:\n",
    "    data_json = response.json()\n",
    "else:\n",
    "    print (\"Processamento falhou!\")"
   ]
  },
  {
   "cell_type": "code",
   "execution_count": 133,
   "metadata": {},
   "outputs": [
    {
     "data": {
      "text/html": [
       "<div>\n",
       "<style scoped>\n",
       "    .dataframe tbody tr th:only-of-type {\n",
       "        vertical-align: middle;\n",
       "    }\n",
       "\n",
       "    .dataframe tbody tr th {\n",
       "        vertical-align: top;\n",
       "    }\n",
       "\n",
       "    .dataframe thead th {\n",
       "        text-align: right;\n",
       "    }\n",
       "</style>\n",
       "<table border=\"1\" class=\"dataframe\">\n",
       "  <thead>\n",
       "    <tr style=\"text-align: right;\">\n",
       "      <th></th>\n",
       "      <th>ccn3</th>\n",
       "      <th>currencies</th>\n",
       "    </tr>\n",
       "  </thead>\n",
       "  <tbody>\n",
       "    <tr>\n",
       "      <th>0</th>\n",
       "      <td>196</td>\n",
       "      <td>{'EUR': {'name': 'Euro', 'symbol': '€'}}</td>\n",
       "    </tr>\n",
       "    <tr>\n",
       "      <th>1</th>\n",
       "      <td>232</td>\n",
       "      <td>{'ERN': {'name': 'Eritrean nakfa', 'symbol': '...</td>\n",
       "    </tr>\n",
       "    <tr>\n",
       "      <th>2</th>\n",
       "      <td>430</td>\n",
       "      <td>{'LRD': {'name': 'Liberian dollar', 'symbol': ...</td>\n",
       "    </tr>\n",
       "    <tr>\n",
       "      <th>3</th>\n",
       "      <td>060</td>\n",
       "      <td>{'BMD': {'name': 'Bermudian dollar', 'symbol':...</td>\n",
       "    </tr>\n",
       "    <tr>\n",
       "      <th>4</th>\n",
       "      <td>336</td>\n",
       "      <td>{'EUR': {'name': 'Euro', 'symbol': '€'}}</td>\n",
       "    </tr>\n",
       "  </tbody>\n",
       "</table>\n",
       "</div>"
      ],
      "text/plain": [
       "  ccn3                                         currencies\n",
       "0  196           {'EUR': {'name': 'Euro', 'symbol': '€'}}\n",
       "1  232  {'ERN': {'name': 'Eritrean nakfa', 'symbol': '...\n",
       "2  430  {'LRD': {'name': 'Liberian dollar', 'symbol': ...\n",
       "3  060  {'BMD': {'name': 'Bermudian dollar', 'symbol':...\n",
       "4  336           {'EUR': {'name': 'Euro', 'symbol': '€'}}"
      ]
     },
     "execution_count": 133,
     "metadata": {},
     "output_type": "execute_result"
    }
   ],
   "source": [
    "#Visualização do arquivo em JSON\n",
    "paises_moeda = pd.DataFrame(data_json)\n",
    "paises_moeda.head(5)"
   ]
  },
  {
   "cell_type": "code",
   "execution_count": 134,
   "metadata": {},
   "outputs": [],
   "source": [
    "df = pd.DataFrame(paises_moeda)\n",
    "df.to_csv('paises_moeda.csv', index=False)"
   ]
  },
  {
   "cell_type": "code",
   "execution_count": 135,
   "metadata": {},
   "outputs": [],
   "source": [
    "#Visualização por codigo, area, populacao, latitude e longitude\n",
    "url = \"https://restcountries.com/v3.1/all?fields=ccn3,population,area,latlng\"\n",
    "response = requests.get(url)"
   ]
  },
  {
   "cell_type": "code",
   "execution_count": 136,
   "metadata": {},
   "outputs": [],
   "source": [
    "#Retorno da API com ou sem sucesso\n",
    "if response.status_code == 200:\n",
    "    data_json = response.json()\n",
    "else:\n",
    "    print (\"Processamento falhou!\")"
   ]
  },
  {
   "cell_type": "code",
   "execution_count": 137,
   "metadata": {},
   "outputs": [
    {
     "data": {
      "text/html": [
       "<div>\n",
       "<style scoped>\n",
       "    .dataframe tbody tr th:only-of-type {\n",
       "        vertical-align: middle;\n",
       "    }\n",
       "\n",
       "    .dataframe tbody tr th {\n",
       "        vertical-align: top;\n",
       "    }\n",
       "\n",
       "    .dataframe thead th {\n",
       "        text-align: right;\n",
       "    }\n",
       "</style>\n",
       "<table border=\"1\" class=\"dataframe\">\n",
       "  <thead>\n",
       "    <tr style=\"text-align: right;\">\n",
       "      <th></th>\n",
       "      <th>ccn3</th>\n",
       "      <th>latlng</th>\n",
       "      <th>area</th>\n",
       "      <th>population</th>\n",
       "    </tr>\n",
       "  </thead>\n",
       "  <tbody>\n",
       "    <tr>\n",
       "      <th>0</th>\n",
       "      <td>196</td>\n",
       "      <td>[35.0, 33.0]</td>\n",
       "      <td>9251.00</td>\n",
       "      <td>1207361</td>\n",
       "    </tr>\n",
       "    <tr>\n",
       "      <th>1</th>\n",
       "      <td>232</td>\n",
       "      <td>[15.0, 39.0]</td>\n",
       "      <td>117600.00</td>\n",
       "      <td>5352000</td>\n",
       "    </tr>\n",
       "    <tr>\n",
       "      <th>2</th>\n",
       "      <td>430</td>\n",
       "      <td>[6.5, -9.5]</td>\n",
       "      <td>111369.00</td>\n",
       "      <td>5057677</td>\n",
       "    </tr>\n",
       "    <tr>\n",
       "      <th>3</th>\n",
       "      <td>060</td>\n",
       "      <td>[32.33333333, -64.75]</td>\n",
       "      <td>54.00</td>\n",
       "      <td>63903</td>\n",
       "    </tr>\n",
       "    <tr>\n",
       "      <th>4</th>\n",
       "      <td>336</td>\n",
       "      <td>[41.9, 12.45]</td>\n",
       "      <td>0.44</td>\n",
       "      <td>451</td>\n",
       "    </tr>\n",
       "  </tbody>\n",
       "</table>\n",
       "</div>"
      ],
      "text/plain": [
       "  ccn3                 latlng       area  population\n",
       "0  196           [35.0, 33.0]    9251.00     1207361\n",
       "1  232           [15.0, 39.0]  117600.00     5352000\n",
       "2  430            [6.5, -9.5]  111369.00     5057677\n",
       "3  060  [32.33333333, -64.75]      54.00       63903\n",
       "4  336          [41.9, 12.45]       0.44         451"
      ]
     },
     "execution_count": 137,
     "metadata": {},
     "output_type": "execute_result"
    }
   ],
   "source": [
    "#Visualização do arquivo em JSON\n",
    "paises_area = pd.DataFrame(data_json)\n",
    "paises_area.head(5)"
   ]
  },
  {
   "cell_type": "code",
   "execution_count": 138,
   "metadata": {},
   "outputs": [],
   "source": [
    "df = pd.DataFrame(paises_area)\n",
    "df.to_csv('paises_area.csv', index=False)\n"
   ]
  },
  {
   "cell_type": "code",
   "execution_count": 139,
   "metadata": {},
   "outputs": [],
   "source": [
    "#notificação de alerta\n",
    "\n",
    "def alerta():\n",
    "    #incluir o caminho da pasta destino depois de executar os comando acima\n",
    "    pasta = r'C:\\Users\\bianc\\Desktop\\Cursos\\12.Python_CODERHOUSE\\venvs\\projetofinal' \n",
    "    arquivos_csv = ['paises_area.csv', 'paises_moeda.csv', 'paises_regiao.csv'] \n",
    "\n",
    "    arquivos = []\n",
    "    for arquivo in arquivos_csv:\n",
    "        caminho = os.path.join(pasta, arquivo)\n",
    "        if os.path.exists(caminho):\n",
    "            arquivos.append(arquivo)\n",
    "\n",
    "    if len(arquivos) == 3:\n",
    "        mensagem =\"Arquivos 'csv' foram salvos com sucesso na pasta destino!\"\n",
    "        notification.notify(\n",
    "            title='NOTIFICAÇÃO',\n",
    "            message=mensagem,\n",
    "            app_name='alerta'\n",
    "        )\n",
    "    else:\n",
    "        mensagem = \"Falha no carregamento dos arquivos 'csv'.\"\n",
    "        notification.notify(\n",
    "            title='NOTIFICAÇÃO',\n",
    "            message=mensagem,\n",
    "            app_name='alerta'\n",
    "        )\n",
    "\n",
    "if __name__ == \"__main__\":\n",
    "    alerta()\n",
    "\n"
   ]
  },
  {
   "cell_type": "code",
   "execution_count": null,
   "metadata": {},
   "outputs": [],
   "source": []
  }
 ],
 "metadata": {
  "kernelspec": {
   "display_name": "base",
   "language": "python",
   "name": "python3"
  },
  "language_info": {
   "codemirror_mode": {
    "name": "ipython",
    "version": 3
   },
   "file_extension": ".py",
   "mimetype": "text/x-python",
   "name": "python",
   "nbconvert_exporter": "python",
   "pygments_lexer": "ipython3",
   "version": "3.8.16"
  }
 },
 "nbformat": 4,
 "nbformat_minor": 2
}
